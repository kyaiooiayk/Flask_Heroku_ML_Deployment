{
 "cells": [
  {
   "cell_type": "code",
   "execution_count": 1,
   "metadata": {},
   "outputs": [
    {
     "data": {
      "text/plain": [
       "'\\nWhat? Save and load ML models\\n\\nTwo methods are shown:\\n[1] pickle file\\n[2] joblib library\\n\\nPickle is the standard way of serializing objects in Python. You can use \\nthe pickle1 operation to serialize your machine learning algorithms and \\nsave the serialized format to a file.\\n\\nThe Joblib library is part of the SciPy ecosystem and provides utilities for \\npipelining Python jobs. It provides utilities for saving and loading Python \\nobjects that make use of NumPy data structures, efficiently\\n\\nReference: Machine learning mastery with python, Jason Brownlee\\n'"
      ]
     },
     "execution_count": 1,
     "metadata": {},
     "output_type": "execute_result"
    }
   ],
   "source": [
    "\"\"\"\n",
    "What? Save and load ML models\n",
    "\n",
    "Two methods are shown:\n",
    "[1] pickle file\n",
    "[2] joblib library\n",
    "\n",
    "Pickle is the standard way of serializing objects in Python. You can use \n",
    "the pickle1 operation to serialize your machine learning algorithms and \n",
    "save the serialized format to a file.\n",
    "\n",
    "The Joblib library is part of the SciPy ecosystem and provides utilities for \n",
    "pipelining Python jobs. It provides utilities for saving and loading Python \n",
    "objects that make use of NumPy data structures, efficiently\n",
    "\n",
    "https://machinelearningmastery.com/save-load-machine-learning-models-python-scikit-learn/\n",
    "\"\"\""
   ]
  },
  {
   "cell_type": "code",
   "execution_count": 2,
   "metadata": {},
   "outputs": [],
   "source": [
    "# Import python modules\n",
    "from pickle import dump\n",
    "from pickle import load\n",
    "from pandas import read_csv\n",
    "from IPython.display import Markdown, display\n",
    "from sklearn.model_selection import train_test_split\n",
    "from sklearn.linear_model import LogisticRegression"
   ]
  },
  {
   "cell_type": "code",
   "execution_count": 3,
   "metadata": {},
   "outputs": [
    {
     "name": "stdout",
     "output_type": "stream",
     "text": [
      "scipy: 1.5.4\n",
      "numpy: 1.19.4\n",
      "matplotlib: 3.3.2\n",
      "pandas: 1.1.4\n",
      "statsmodels: 0.12.1\n",
      "sklearn: 0.23.2\n"
     ]
    }
   ],
   "source": [
    "# Additional functions\n",
    "def myPrint(string, c = \"blue\"):    \n",
    "    \"\"\"My version of the python-native print command.\n",
    "    \n",
    "    Print in bold and red tect\n",
    "    \"\"\"\n",
    "    colorstr = \"<span style='color:{}'>{}</span>\".format(c, '**'+ string + '**' )    \n",
    "    display(Markdown(colorstr))\n",
    "\n",
    "def printPythonModuleVersion():    \n",
    "    \"\"\"printPythonModuleVersion\n",
    "    Quickly list the python module versions\n",
    "    \"\"\"\n",
    "    import scipy\n",
    "    print('scipy: %s' % scipy.__version__)\n",
    "    import numpy\n",
    "    print('numpy: %s' % numpy.__version__)    \n",
    "    import matplotlib\n",
    "    print('matplotlib: %s' % matplotlib.__version__)    \n",
    "    import pandas\n",
    "    print('pandas: %s' % pandas.__version__)\n",
    "    import statsmodels\n",
    "    print('statsmodels: %s' % statsmodels.__version__) \n",
    "    import sklearn\n",
    "    print('sklearn: %s' % sklearn.__version__)\n",
    "\n",
    "printPythonModuleVersion()"
   ]
  },
  {
   "cell_type": "code",
   "execution_count": 4,
   "metadata": {},
   "outputs": [
    {
     "data": {
      "text/markdown": [
       "<span style='color:blue'>**Importing dataset**</span>"
      ],
      "text/plain": [
       "<IPython.core.display.Markdown object>"
      ]
     },
     "metadata": {},
     "output_type": "display_data"
    },
    {
     "name": "stdout",
     "output_type": "stream",
     "text": [
      "Input size:  (768, 8)\n",
      "Labels size:  (768,)\n"
     ]
    }
   ],
   "source": [
    "myPrint(\"Importing dataset\")\n",
    "filename = './datasetCollections/pima-indians-diabetes.csv'\n",
    "names = ['preg', 'plas', 'pres', 'skin', 'test', 'mass', 'pedi', 'age', 'class'] \n",
    "dataframe = read_csv(filename, names = names)\n",
    "array = dataframe.values\n",
    "X = array[:,0:8]\n",
    "Y = array[:,8]\n",
    "num_folds = 10\n",
    "print(\"Input size: \", X.shape)\n",
    "print(\"Labels size: \", Y.shape)"
   ]
  },
  {
   "cell_type": "code",
   "execution_count": 5,
   "metadata": {},
   "outputs": [
    {
     "data": {
      "text/markdown": [
       "<span style='color:blue'>**Create the ML model**</span>"
      ],
      "text/plain": [
       "<IPython.core.display.Markdown object>"
      ]
     },
     "metadata": {},
     "output_type": "display_data"
    },
    {
     "name": "stdout",
     "output_type": "stream",
     "text": [
      "Model score:  0.7874015748031497\n"
     ]
    }
   ],
   "source": [
    "myPrint(\"Create the ML model\")\n",
    "X_train, X_test, Y_train, Y_test = train_test_split(X, Y, test_size=0.33, random_state=7)\n",
    "# Fit the model on 33%\n",
    "model = LogisticRegression(max_iter = 250) \n",
    "model.fit(X_train, Y_train)\n",
    "print(\"Model score: \", model.score(X_test, Y_test))"
   ]
  },
  {
   "cell_type": "code",
   "execution_count": 16,
   "metadata": {},
   "outputs": [
    {
     "data": {
      "text/markdown": [
       "<span style='color:blue'>**USING pickle**</span>"
      ],
      "text/plain": [
       "<IPython.core.display.Markdown object>"
      ]
     },
     "metadata": {},
     "output_type": "display_data"
    },
    {
     "name": "stdout",
     "output_type": "stream",
     "text": [
      "Save the model to disk\n",
      "File save at: ./output/finalized_model.pkl\n",
      "load the model from disk\n",
      "Model score:  0.7874015748031497\n"
     ]
    }
   ],
   "source": [
    "myPrint(\"USING pickle\")\n",
    "print(\"Save the model to disk\")\n",
    "outputPath = './output/finalized_model.pkl' \n",
    "dump(model, open(outputPath, 'wb'))\n",
    "print(\"File save at: \" + outputPath)\n",
    "print(\"load the model from disk\")\n",
    "loaded_model = load(open(outputPath, 'rb')) \n",
    "result = loaded_model.score(X_test, Y_test) \n",
    "print(\"Model score: \", result)"
   ]
  },
  {
   "cell_type": "code",
   "execution_count": 19,
   "metadata": {},
   "outputs": [
    {
     "data": {
      "text/markdown": [
       "<span style='color:blue'>**USING joblib**</span>"
      ],
      "text/plain": [
       "<IPython.core.display.Markdown object>"
      ]
     },
     "metadata": {},
     "output_type": "display_data"
    },
    {
     "name": "stdout",
     "output_type": "stream",
     "text": [
      "Save the model to disk\n",
      "File save at: ./output/finalized_model.joblib\n",
      "load the model from disk\n",
      "Model score:  0.7874015748031497\n"
     ]
    }
   ],
   "source": [
    "myPrint(\"USING joblib\")\n",
    "from joblib import dump, load\n",
    "\n",
    "# save the model to disk\n",
    "outputPathJoblib = './output/finalized_model.joblib' \n",
    "print(\"Save the model to disk\")\n",
    "dump(model, outputPathJoblib)\n",
    "print(\"File save at: \" + outputPathJoblib)\n",
    "\n",
    "# load the model from disk\n",
    "print(\"load the model from disk\")\n",
    "loaded_model = load(outputPathJoblib)\n",
    "result = loaded_model.score(X_test, Y_test)\n",
    "print(\"Model score: \", result)"
   ]
  },
  {
   "cell_type": "code",
   "execution_count": null,
   "metadata": {},
   "outputs": [],
   "source": []
  }
 ],
 "metadata": {
  "hide_input": false,
  "kernelspec": {
   "display_name": "trainingAI",
   "language": "python",
   "name": "trainingai"
  },
  "language_info": {
   "codemirror_mode": {
    "name": "ipython",
    "version": 3
   },
   "file_extension": ".py",
   "mimetype": "text/x-python",
   "name": "python",
   "nbconvert_exporter": "python",
   "pygments_lexer": "ipython3",
   "version": "3.8.5"
  }
 },
 "nbformat": 4,
 "nbformat_minor": 2
}
