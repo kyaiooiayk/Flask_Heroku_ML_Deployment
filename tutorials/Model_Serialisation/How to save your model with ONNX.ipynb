{
 "cells": [
  {
   "cell_type": "markdown",
   "id": "2d433b5f",
   "metadata": {
    "toc": true
   },
   "source": [
    "<h1>Table of Contents<span class=\"tocSkip\"></span></h1>\n",
    "<div class=\"toc\"><ul class=\"toc-item\"><li><span><a href=\"#Introduction\" data-toc-modified-id=\"Introduction-1\"><span class=\"toc-item-num\">1&nbsp;&nbsp;</span>Introduction</a></span></li><li><span><a href=\"#What-is-wrong-with-the-Pickle-files?\" data-toc-modified-id=\"What-is-wrong-with-the-Pickle-files?-2\"><span class=\"toc-item-num\">2&nbsp;&nbsp;</span>What is wrong with the Pickle files?</a></span></li><li><span><a href=\"#ONNX\" data-toc-modified-id=\"ONNX-3\"><span class=\"toc-item-num\">3&nbsp;&nbsp;</span>ONNX</a></span></li><li><span><a href=\"#Imports\" data-toc-modified-id=\"Imports-4\"><span class=\"toc-item-num\">4&nbsp;&nbsp;</span>Imports</a></span></li><li><span><a href=\"#Dumping-the-model-with-pickle\" data-toc-modified-id=\"Dumping-the-model-with-pickle-5\"><span class=\"toc-item-num\">5&nbsp;&nbsp;</span>Dumping the model with <code>pickle</code></a></span></li><li><span><a href=\"#Dumping-the-model-with-ONNX\" data-toc-modified-id=\"Dumping-the-model-with-ONNX-6\"><span class=\"toc-item-num\">6&nbsp;&nbsp;</span>Dumping the model with ONNX</a></span></li><li><span><a href=\"#Folder-clean-up\" data-toc-modified-id=\"Folder-clean-up-7\"><span class=\"toc-item-num\">7&nbsp;&nbsp;</span>Folder clean-up</a></span></li><li><span><a href=\"#References\" data-toc-modified-id=\"References-8\"><span class=\"toc-item-num\">8&nbsp;&nbsp;</span>References</a></span></li></ul></div>"
   ]
  },
  {
   "cell_type": "markdown",
   "id": "0511a41e",
   "metadata": {},
   "source": [
    "# Introduction\n",
    "<hr style = \"border:2px solid black\" ></hr>"
   ]
  },
  {
   "cell_type": "markdown",
   "id": "31019725",
   "metadata": {},
   "source": [
    "<div class=\"alert alert-warning\">\n",
    "<font color=black>\n",
    "\n",
    "**What?** Model serialisation with dill\n",
    "\n",
    "</font>\n",
    "</div>"
   ]
  },
  {
   "cell_type": "markdown",
   "id": "de123ef2",
   "metadata": {},
   "source": [
    "# What is wrong with the Pickle files?\n",
    "<hr style = \"border:2px solid black\" ></hr>"
   ]
  },
  {
   "cell_type": "markdown",
   "id": "7d3764fa",
   "metadata": {},
   "source": [
    "<div class=\"alert alert-info\">\n",
    "<font color=black>\n",
    "\n",
    "- So the first thing I will say is that there is nothing inherently wrong with pickling your models. \n",
    "\n",
    "- When you pickle a model you are serializing a python object so it can be stored in a file. When you load the python object from the pickle file it will assume all the packages and functions it calls are the same. What this means is that your exported model is strongly coupled to the environment it was exported in. If you try to load your model with something like a different sklearn version, your pickle can fail to load.\n",
    "\n",
    "- Additionally, if all you want to do is make predictions with the model (for example when creating an inference endpoint) you will still need **to download the entire sklearn package**, which is overkill.\n",
    "\n",
    "</font>\n",
    "</div>"
   ]
  },
  {
   "cell_type": "markdown",
   "id": "54ea72ac",
   "metadata": {},
   "source": [
    "# ONNX\n",
    "<hr style = \"border:2px solid black\" ></hr>"
   ]
  },
  {
   "cell_type": "markdown",
   "id": "35c5de20",
   "metadata": {},
   "source": [
    "<div class=\"alert alert-info\">\n",
    "<font color=black>\n",
    "\n",
    "- In contrast when you export a model to ONNX you are converting it to a set of operations that can be executed directly by the framework. \n",
    "    \n",
    "- When you load the model there will be no assumptions on other functions or packages, it will simply execute the operations and generate your results. \n",
    "    \n",
    "- What this means is that your model is no longer strongly coupled to your specific python environment. In fact it’s no longer coupled with Python at all, because ONNX models are portable to many different languages \n",
    "    \n",
    "</font>\n",
    "</div>"
   ]
  },
  {
   "cell_type": "markdown",
   "id": "20d1103a",
   "metadata": {},
   "source": [
    "# Imports\n",
    "<hr style = \"border:2px solid black\" ></hr>"
   ]
  },
  {
   "cell_type": "code",
   "execution_count": 1,
   "id": "7ba477cc",
   "metadata": {
    "ExecuteTime": {
     "end_time": "2022-09-09T19:37:51.498052Z",
     "start_time": "2022-09-09T19:37:49.905372Z"
    }
   },
   "outputs": [],
   "source": [
    "from sklearn.datasets import make_hastie_10_2\n",
    "from sklearn.ensemble import GradientBoostingClassifier\n",
    "import pickle\n",
    "\n",
    "from skl2onnx import convert_sklearn\n",
    "from skl2onnx import convert_sklearn\n",
    "from skl2onnx.common.data_types import FloatTensorType\n",
    "from skl2onnx import get_latest_tested_opset_version\n",
    "from onnxmltools.utils import save_model\n",
    "\n",
    "import onnxruntime as ort\n",
    "import numpy as np"
   ]
  },
  {
   "cell_type": "markdown",
   "id": "f53fc0b0",
   "metadata": {},
   "source": [
    "# Dumping the model with `pickle`\n",
    "<hr style = \"border:2px solid black\" ></hr>"
   ]
  },
  {
   "cell_type": "code",
   "execution_count": 2,
   "id": "a5dc6ae5",
   "metadata": {
    "ExecuteTime": {
     "end_time": "2022-09-09T19:37:51.791438Z",
     "start_time": "2022-09-09T19:37:51.500265Z"
    }
   },
   "outputs": [],
   "source": [
    "X, y = make_hastie_10_2(random_state=0)\n",
    "X_train, X_test = X[:2000], X[2000:]\n",
    "y_train, y_test = y[:2000], y[2000:]\n",
    "\n",
    "clf = GradientBoostingClassifier(\n",
    "    n_estimators=100, learning_rate=1.0, max_depth=1, random_state=0)\n",
    "\n",
    "clf = clf.fit(X_train, y_train)"
   ]
  },
  {
   "cell_type": "code",
   "execution_count": 3,
   "id": "f0bc9518",
   "metadata": {
    "ExecuteTime": {
     "end_time": "2022-09-09T19:37:51.807466Z",
     "start_time": "2022-09-09T19:37:51.794541Z"
    }
   },
   "outputs": [],
   "source": [
    "with open(\"model.pkl\", \"wb\") as f:\n",
    "    pickle.dump(clf, f)\n",
    "    \n",
    "with open(\"model.pkl\",\"rb\") as f:\n",
    "    pkl_clf = pickle.load(f)\n",
    "\n",
    "preds = pkl_clf.predict(X_train)"
   ]
  },
  {
   "cell_type": "markdown",
   "id": "ee3b8d7a",
   "metadata": {},
   "source": [
    "# Dumping the model with ONNX\n",
    "<hr style = \"border:2px solid black\" ></hr>"
   ]
  },
  {
   "cell_type": "code",
   "execution_count": 4,
   "id": "41d2f977",
   "metadata": {
    "ExecuteTime": {
     "end_time": "2022-09-09T19:37:51.842938Z",
     "start_time": "2022-09-09T19:37:51.809483Z"
    }
   },
   "outputs": [
    {
     "name": "stderr",
     "output_type": "stream",
     "text": [
      "/opt/anaconda3/envs/trainingAI/lib/python3.9/site-packages/sklearn/utils/deprecation.py:103: FutureWarning: The attribute `n_features_` is deprecated in 1.0 and will be removed in 1.2. Use `n_features_in_` instead.\n",
      "  warnings.warn(msg, category=FutureWarning)\n"
     ]
    }
   ],
   "source": [
    "target_opset = get_latest_tested_opset_version()\n",
    "n_features = X_train.shape[1]\n",
    "onnx_clf = convert_sklearn(\n",
    "    clf,\n",
    "    \"gbdt_model\",\n",
    "    initial_types=[(\"input\", FloatTensorType([None, n_features]))],\n",
    "    target_opset={\"\": target_opset, \"ai.onnx.ml\": 1}\n",
    ")\n",
    "save_model(onnx_clf, \"model.onnx\")"
   ]
  },
  {
   "cell_type": "code",
   "execution_count": 5,
   "id": "a20e8a4b",
   "metadata": {
    "ExecuteTime": {
     "end_time": "2022-09-09T19:37:51.858585Z",
     "start_time": "2022-09-09T19:37:51.845517Z"
    }
   },
   "outputs": [],
   "source": [
    "sess = ort.InferenceSession(\"model.onnx\")\n",
    "preds, _ = sess.run(\n",
    "    None, {\"input\": X_train.astype(np.float32)}\n",
    ")"
   ]
  },
  {
   "cell_type": "markdown",
   "id": "022742ae",
   "metadata": {},
   "source": [
    "# Folder clean-up\n",
    "<hr style = \"border:2px solid black\" ></hr>"
   ]
  },
  {
   "cell_type": "code",
   "execution_count": 6,
   "id": "cf2640ee",
   "metadata": {
    "ExecuteTime": {
     "end_time": "2022-09-09T19:37:52.127768Z",
     "start_time": "2022-09-09T19:37:51.861094Z"
    }
   },
   "outputs": [],
   "source": [
    "!rm model.pkl\n",
    "! rm model.onnx"
   ]
  },
  {
   "cell_type": "markdown",
   "id": "01b86bdf",
   "metadata": {},
   "source": [
    "# References\n",
    "<hr style = \"border:2px solid black\" ></hr>"
   ]
  },
  {
   "cell_type": "markdown",
   "id": "3902c3a1",
   "metadata": {},
   "source": [
    "<div class=\"alert alert-warning\">\n",
    "<font color=black>\n",
    "\n",
    "- https://medium.com/@liamwr17/stop-pickling-your-ml-models-use-onnx-instead-983cd4561e3a\n",
    "- [ONNX](https://onnx.ai/)\n",
    "\n",
    "</font>\n",
    "</div>"
   ]
  },
  {
   "cell_type": "code",
   "execution_count": null,
   "id": "1e704c05",
   "metadata": {},
   "outputs": [],
   "source": []
  }
 ],
 "metadata": {
  "kernelspec": {
   "display_name": "trainingAI",
   "language": "python",
   "name": "trainingai"
  },
  "language_info": {
   "codemirror_mode": {
    "name": "ipython",
    "version": 3
   },
   "file_extension": ".py",
   "mimetype": "text/x-python",
   "name": "python",
   "nbconvert_exporter": "python",
   "pygments_lexer": "ipython3",
   "version": "3.9.7"
  },
  "toc": {
   "base_numbering": 1,
   "nav_menu": {},
   "number_sections": true,
   "sideBar": true,
   "skip_h1_title": false,
   "title_cell": "Table of Contents",
   "title_sidebar": "Contents",
   "toc_cell": true,
   "toc_position": {
    "height": "calc(100% - 180px)",
    "left": "10px",
    "top": "150px",
    "width": "298.667px"
   },
   "toc_section_display": true,
   "toc_window_display": true
  },
  "varInspector": {
   "cols": {
    "lenName": 16,
    "lenType": 16,
    "lenVar": 40
   },
   "kernels_config": {
    "python": {
     "delete_cmd_postfix": "",
     "delete_cmd_prefix": "del ",
     "library": "var_list.py",
     "varRefreshCmd": "print(var_dic_list())"
    },
    "r": {
     "delete_cmd_postfix": ") ",
     "delete_cmd_prefix": "rm(",
     "library": "var_list.r",
     "varRefreshCmd": "cat(var_dic_list()) "
    }
   },
   "types_to_exclude": [
    "module",
    "function",
    "builtin_function_or_method",
    "instance",
    "_Feature"
   ],
   "window_display": false
  }
 },
 "nbformat": 4,
 "nbformat_minor": 5
}
