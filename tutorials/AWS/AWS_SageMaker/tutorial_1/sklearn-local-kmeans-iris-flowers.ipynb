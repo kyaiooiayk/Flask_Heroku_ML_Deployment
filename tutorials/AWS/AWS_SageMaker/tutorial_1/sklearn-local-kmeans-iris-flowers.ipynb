{
 "cells": [
  {
   "cell_type": "code",
   "execution_count": 23,
   "metadata": {},
   "outputs": [],
   "source": [
    "import boto3\n",
    "import sagemaker\n",
    "import io\n",
    "\n",
    "import pandas as pd\n",
    "import numpy as np\n",
    "\n",
    "# load training and validation dataset from Amazon S3\n",
    "s3_client = boto3.client('s3')\n",
    "s3_bucket_name='awsml-sagemaker-source'\n",
    "\n",
    "response = s3_client.get_object(Bucket='awsml-sagemaker-source', Key='iris_train.csv')\n",
    "response_body = response[\"Body\"].read()\n",
    "df_iris_train = pd.read_csv(io.BytesIO(response_body), header=0, delimiter=\",\", low_memory=False)\n",
    "\n",
    "response = s3_client.get_object(Bucket='awsml-sagemaker-source', Key='iris_test.csv')\n",
    "response_body = response[\"Body\"].read()\n",
    "df_iris_test = pd.read_csv(io.BytesIO(response_body), header=0, index_col=False, delimiter=\",\", low_memory=False)\n",
    "\n",
    "# Convert target variables 'species' from strings into integers.\n",
    "from sklearn.preprocessing import LabelEncoder\n",
    "labelEncoder = LabelEncoder()\n",
    "labelEncoder.fit(df_iris_train['species'])\n",
    "labelEncoder.fit(df_iris_test['species'])\n",
    "df_iris_train['species'] = labelEncoder.transform(df_iris_train['species'])\n",
    "df_iris_test['species'] = labelEncoder.transform(df_iris_test['species'])\n",
    "\n",
    "# separate training anf validation dataset into separate features and target variables\n",
    "# assume that the first column in each dataset is the target variable.\n",
    "df_iris_features_train = df_iris_train.iloc[:,1:]\n",
    "df_iris_target_train = df_iris_train.iloc[:,0]\n",
    "\n",
    "df_iris_features_test= df_iris_test.iloc[:,1:]\n",
    "df_iris_target_test = df_iris_test.iloc[:,0]\n",
    "\n",
    "# create a KMeans multi-class classifier.\n",
    "from sklearn.cluster import KMeans\n",
    "\n",
    "kmeans_model = KMeans(n_clusters=3)\n",
    "kmeans_model.fit(df_iris_features_train, df_iris_target_train.values.ravel())\n",
    "\n",
    "# use the  model to create predictions on the test set\n",
    "kmeans_predictions = kmeans_model.predict(df_iris_features_test)\n",
    "\n",
    "# compute confusion matrix\n",
    "from sklearn.metrics import confusion_matrix\n",
    "cm_kmeans = confusion_matrix(df_iris_target_test.values.ravel(), kmeans_predictions)"
   ]
  },
  {
   "cell_type": "code",
   "execution_count": 24,
   "metadata": {},
   "outputs": [
    {
     "name": "stdout",
     "output_type": "stream",
     "text": [
      "[0 1 2 1 1 1 1 2 1 1 2 0 1 0 2 0 0 2 2 2 1 0 1 1 1 1 1 1 0 1 0 1 0 0 1 1 1\n",
      " 2]\n"
     ]
    }
   ],
   "source": [
    "# print predicted classes\n",
    "print (kmeans_predictions)"
   ]
  },
  {
   "cell_type": "code",
   "execution_count": 25,
   "metadata": {},
   "outputs": [
    {
     "name": "stdout",
     "output_type": "stream",
     "text": [
      "[0 1 2 1 2 2 1 2 1 2 2 0 1 0 2 0 0 2 2 2 2 0 2 1 1 1 1 1 0 1 0 1 0 0 1 1 1\n",
      " 2]\n"
     ]
    }
   ],
   "source": [
    "# print expected classes\n",
    "print (df_iris_target_test.values.ravel())"
   ]
  },
  {
   "cell_type": "code",
   "execution_count": 26,
   "metadata": {},
   "outputs": [
    {
     "name": "stdout",
     "output_type": "stream",
     "text": [
      "[[10  0  0]\n",
      " [ 0 15  0]\n",
      " [ 0  5  8]]\n"
     ]
    }
   ],
   "source": [
    "# print confusion matrix\n",
    "print(cm_kmeans)"
   ]
  }
 ],
 "metadata": {
  "kernelspec": {
   "display_name": "conda_python3",
   "language": "python",
   "name": "conda_python3"
  },
  "language_info": {
   "codemirror_mode": {
    "name": "ipython",
    "version": 3
   },
   "file_extension": ".py",
   "mimetype": "text/x-python",
   "name": "python",
   "nbconvert_exporter": "python",
   "pygments_lexer": "ipython3",
   "version": "3.6.5"
  }
 },
 "nbformat": 4,
 "nbformat_minor": 2
}
