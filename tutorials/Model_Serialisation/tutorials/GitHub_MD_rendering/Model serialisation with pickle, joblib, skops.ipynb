{
 "cells": [
  {
   "cell_type": "markdown",
   "id": "2d433b5f",
   "metadata": {
    "toc": true
   },
   "source": [
    "<h1>Table of Contents<span class=\"tocSkip\"></span></h1>\n",
""   ]
  },
  {
   "cell_type": "markdown",
   "id": "11521a0d",
   "metadata": {},
   "source": [
    "# Introduction\n",
    "<hr style = \"border:2px solid black\" ></hr>"
   ]
  },
  {
   "cell_type": "markdown",
   "id": "3d76a989",
   "metadata": {},
   "source": [
    "\n",
    "**What?** Model serialisation with pickle, joblib, skops\n",
    "\n",
""   ]
  },
  {
   "cell_type": "markdown",
   "id": "8a99280e",
   "metadata": {},
   "source": [
    "# What is model persistance?\n",
    "<hr style = \"border:2px solid black\" ></hr>"
   ]
  },
  {
   "cell_type": "markdown",
   "id": "7206ef9e",
   "metadata": {},
   "source": [
    "\n",
    "- After training a scikit-learn model, it is desirable to have a way to persist the model for future use without having to retrain. \n",
    "- The following sections give you some hints on how to persist a scikit-learn model.\n",
    "\n",
""   ]
  },
  {
   "cell_type": "markdown",
   "id": "614f0c21",
   "metadata": {},
   "source": [
    "# Imports\n",
    "<hr style = \"border:2px solid black\" ></hr>"
   ]
  },
  {
   "cell_type": "code",
   "execution_count": 1,
   "id": "51828994",
   "metadata": {
    "ExecuteTime": {
     "end_time": "2023-01-02T13:30:35.554114Z",
     "start_time": "2023-01-02T13:30:34.746899Z"
    }
   },
   "outputs": [],
   "source": [
    "from sklearn import svm\n",
    "from sklearn import datasets\n",
    "import pickle\n",
    "from joblib import dump, load\n",
    "import skops.io as sio"
   ]
  },
  {
   "cell_type": "markdown",
   "id": "588fa521",
   "metadata": {},
   "source": [
    "# Load dataset and fit a dummy model\n",
    "<hr style = \"border:2px solid black\" ></hr>"
   ]
  },
  {
   "cell_type": "code",
   "execution_count": 2,
   "id": "89aca8e5",
   "metadata": {
    "ExecuteTime": {
     "end_time": "2023-01-02T13:30:35.571177Z",
     "start_time": "2023-01-02T13:30:35.556465Z"
    }
   },
   "outputs": [
    {
     "data": {
      "text/plain": [
       "SVC()"
      ]
     },
     "execution_count": 2,
     "metadata": {},
     "output_type": "execute_result"
    }
   ],
   "source": [
    "clf = svm.SVC()\n",
    "X, y = datasets.load_iris(return_X_y=True)\n",
    "clf.fit(X, y)"
   ]
  },
  {
   "cell_type": "markdown",
   "id": "55fec2ec",
   "metadata": {},
   "source": [
    "# `pickle`\n",
    "<hr style = \"border:2px solid black\" ></hr>"
   ]
  },
  {
   "cell_type": "code",
   "execution_count": 3,
   "id": "4f9cd9bb",
   "metadata": {
    "ExecuteTime": {
     "end_time": "2023-01-02T13:30:35.579075Z",
     "start_time": "2023-01-02T13:30:35.574555Z"
    }
   },
   "outputs": [
    {
     "name": "stdout",
     "output_type": "stream",
     "text": [
      "prediction [0]\n",
      "target:  0\n"
     ]
    }
   ],
   "source": [
    "s = pickle.dumps(clf)\n",
    "clf2 = pickle.loads(s)\n",
    "print(\"prediction\", clf2.predict(X[0:1]))\n",
    "print(\"target: \", y[0])"
   ]
  },
  {
   "cell_type": "markdown",
   "id": "45f0dce1",
   "metadata": {},
   "source": [
    "# `joblib`\n",
    "<hr style = \"border:2px solid black\" ></hr>"
   ]
  },
  {
   "cell_type": "markdown",
   "id": "bd341b8b",
   "metadata": {
    "ExecuteTime": {
     "end_time": "2022-03-09T19:42:09.943836Z",
     "start_time": "2022-03-09T19:42:09.909371Z"
    }
   },
   "source": [
    "\n",
    "\n",
    "- In the specific case of scikit-learn, it may be better to use joblib’s replacement of pickle (dump & load), which is more efficient on objects that carry large numpy arrays internally as is often the case for fitted scikit-learn estimators, but can only pickle to the disk and not to a string.\n",
    "\n",
""   ]
  },
  {
   "cell_type": "code",
   "execution_count": 4,
   "id": "8b77988e",
   "metadata": {
    "ExecuteTime": {
     "end_time": "2023-01-02T13:30:35.588304Z",
     "start_time": "2023-01-02T13:30:35.581684Z"
    }
   },
   "outputs": [
    {
     "data": {
      "text/plain": [
       "['./filename.joblib']"
      ]
     },
     "execution_count": 4,
     "metadata": {},
     "output_type": "execute_result"
    }
   ],
   "source": [
    "dump(clf, './filename.joblib')"
   ]
  },
  {
   "cell_type": "code",
   "execution_count": 5,
   "id": "3e5c16c8",
   "metadata": {
    "ExecuteTime": {
     "end_time": "2023-01-02T13:30:35.717740Z",
     "start_time": "2023-01-02T13:30:35.590795Z"
    }
   },
   "outputs": [
    {
     "name": "stdout",
     "output_type": "stream",
     "text": [
      "filename.joblib\r\n"
     ]
    }
   ],
   "source": [
    "!ls *.joblib"
   ]
  },
  {
   "cell_type": "code",
   "execution_count": 6,
   "id": "d1cb27aa",
   "metadata": {
    "ExecuteTime": {
     "end_time": "2023-01-02T13:30:35.726907Z",
     "start_time": "2023-01-02T13:30:35.721019Z"
    }
   },
   "outputs": [],
   "source": [
    "clf3 = load('filename.joblib') "
   ]
  },
  {
   "cell_type": "code",
   "execution_count": 7,
   "id": "d1716495",
   "metadata": {
    "ExecuteTime": {
     "end_time": "2023-01-02T13:30:35.733573Z",
     "start_time": "2023-01-02T13:30:35.728937Z"
    }
   },
   "outputs": [
    {
     "name": "stdout",
     "output_type": "stream",
     "text": [
      "prediction [0]\n",
      "target:  0\n"
     ]
    }
   ],
   "source": [
    "print(\"prediction\", clf3.predict(X[0:1]))\n",
    "print(\"target: \", y[0])"
   ]
  },
  {
   "cell_type": "markdown",
   "id": "b4fb324b",
   "metadata": {},
   "source": [
    "# `skops`\n",
    "<hr style = \"border:2px solid black\" ></hr>"
   ]
  },
  {
   "cell_type": "markdown",
   "id": "aa3031ab",
   "metadata": {
    "ExecuteTime": {
     "end_time": "2022-03-09T19:42:46.726398Z",
     "start_time": "2022-03-09T19:42:46.719069Z"
    }
   },
   "source": [
    "\n",
    "- `skops` provides a more secure format via the skops.io module. \n",
    "- It avoids using pickle and only loads files which have types and references to functions which are trusted either by default or by the user. \n",
    "\n",
""   ]
  },
  {
   "cell_type": "code",
   "execution_count": 8,
   "id": "ffc699c7",
   "metadata": {
    "ExecuteTime": {
     "end_time": "2023-01-02T13:30:35.742360Z",
     "start_time": "2023-01-02T13:30:35.735685Z"
    }
   },
   "outputs": [],
   "source": [
    "obj = sio.dumps(clf)"
   ]
  },
  {
   "cell_type": "code",
   "execution_count": 11,
   "id": "d07e4203",
   "metadata": {
    "ExecuteTime": {
     "end_time": "2023-01-02T13:31:56.992323Z",
     "start_time": "2023-01-02T13:31:56.984006Z"
    }
   },
   "outputs": [
    {
     "ename": "TypeError",
     "evalue": "get_untrusted_types() takes 0 positional arguments but 1 was given",
     "output_type": "error",
     "traceback": [
      "\u001b[0;31m---------------------------------------------------------------------------\u001b[0m",
      "\u001b[0;31mTypeError\u001b[0m                                 Traceback (most recent call last)",
      "\u001b[0;32m/var/folders/5x/lyqr8wv507n43bnwpsz4dq_c0000gn/T/ipykernel_46196/1039050895.py\u001b[0m in \u001b[0;36m<module>\u001b[0;34m\u001b[0m\n\u001b[0;32m----> 1\u001b[0;31m \u001b[0munknown_types\u001b[0m \u001b[0;34m=\u001b[0m \u001b[0msio\u001b[0m\u001b[0;34m.\u001b[0m\u001b[0mget_untrusted_types\u001b[0m\u001b[0;34m(\u001b[0m\u001b[0mobj\u001b[0m\u001b[0;34m)\u001b[0m\u001b[0;34m\u001b[0m\u001b[0;34m\u001b[0m\u001b[0m\n\u001b[0m\u001b[1;32m      2\u001b[0m \u001b[0mclf\u001b[0m \u001b[0;34m=\u001b[0m \u001b[0msio\u001b[0m\u001b[0;34m.\u001b[0m\u001b[0mloads\u001b[0m\u001b[0;34m(\u001b[0m\u001b[0mobj\u001b[0m\u001b[0;34m,\u001b[0m \u001b[0mtrusted\u001b[0m\u001b[0;34m=\u001b[0m\u001b[0munknown_types\u001b[0m\u001b[0;34m)\u001b[0m\u001b[0;34m\u001b[0m\u001b[0;34m\u001b[0m\u001b[0m\n",
      "\u001b[0;31mTypeError\u001b[0m: get_untrusted_types() takes 0 positional arguments but 1 was given"
     ]
    }
   ],
   "source": [
    "unknown_types = sio.get_untrusted_types(obj)\n",
    "clf = sio.loads(obj, trusted=unknown_types)"
   ]
  },
  {
   "cell_type": "code",
   "execution_count": 12,
   "id": "60fd606f",
   "metadata": {
    "ExecuteTime": {
     "end_time": "2023-01-02T13:32:45.112905Z",
     "start_time": "2023-01-02T13:32:45.105279Z"
    }
   },
   "outputs": [],
   "source": [
    "clf = sio.loads(obj, trusted=True)"
   ]
  },
  {
   "cell_type": "code",
   "execution_count": 13,
   "id": "8b54254e",
   "metadata": {
    "ExecuteTime": {
     "end_time": "2023-01-02T13:33:04.276563Z",
     "start_time": "2023-01-02T13:33:04.272546Z"
    }
   },
   "outputs": [
    {
     "name": "stdout",
     "output_type": "stream",
     "text": [
      "prediction [0]\n",
      "target:  0\n"
     ]
    }
   ],
   "source": [
    "print(\"prediction\", clf.predict(X[0:1]))\n",
    "print(\"target: \", y[0])"
   ]
  },
  {
   "cell_type": "markdown",
   "id": "d9daf7f1",
   "metadata": {},
   "source": [
    "# Clean-up\n",
    "<hr style = \"border:2px solid black\" ></hr>"
   ]
  },
  {
   "cell_type": "code",
   "execution_count": null,
   "id": "fa5d16e2",
   "metadata": {
    "ExecuteTime": {
     "end_time": "2023-01-02T13:30:35.951836Z",
     "start_time": "2023-01-02T13:30:35.951814Z"
    }
   },
   "outputs": [],
   "source": [
    "!rm *.jobliv"
   ]
  },
  {
   "cell_type": "code",
   "execution_count": null,
   "id": "db228695",
   "metadata": {
    "ExecuteTime": {
     "end_time": "2023-01-02T13:30:35.953586Z",
     "start_time": "2023-01-02T13:30:35.953567Z"
    }
   },
   "outputs": [],
   "source": [
    "!ls *.joblib"
   ]
  },
  {
   "cell_type": "markdown",
   "id": "703dc5ac",
   "metadata": {},
   "source": [
    "# Conclusions\n",
    "<hr style = \"border:2px solid black\" ></hr>"
   ]
  },
  {
   "cell_type": "markdown",
   "id": "f7e9aef2",
   "metadata": {},
   "source": [
    "\n",
    "- `pickle` (and `joblib` by extension), has some issues regarding maintainability and security. Because of this,\n",
    "    - Never unpickle untru sted data as it could lead to malicious code being executed upon loading.\n",
    "    - While models saved using one version of scikit-learn might load in other versions, this is entirely unsupported and inadvisable. It should also be kept in mind that operations performed on such data could give different and unexpected results.\n",
    "\n",
""   ]
  },
  {
   "cell_type": "markdown",
   "id": "284314aa",
   "metadata": {},
   "source": [
    "# References\n",
    "<hr style = \"border:2px solid black\" ></hr>"
   ]
  },
  {
   "cell_type": "markdown",
   "id": "f6ea8654",
   "metadata": {
    "ExecuteTime": {
     "end_time": "2023-01-02T13:30:35.955600Z",
     "start_time": "2023-01-02T13:30:35.955576Z"
    }
   },
   "source": [
    "\n",
    "- [Model persistance in scikit-learn](https://scikit-learn.org/stable/model_persistence.html)\n",
    "\n",
""   ]
  },
  {
   "cell_type": "code",
   "execution_count": null,
   "id": "1e704c05",
   "metadata": {},
   "outputs": [],
   "source": []
  }
 ],
 "metadata": {
  "kernelspec": {
   "display_name": "trainingAI",
   "language": "python",
   "name": "trainingai"
  },
  "language_info": {
   "codemirror_mode": {
    "name": "ipython",
    "version": 3
   },
   "file_extension": ".py",
   "mimetype": "text/x-python",
   "name": "python",
   "nbconvert_exporter": "python",
   "pygments_lexer": "ipython3",
   "version": "3.9.7"
  },
  "toc": {
   "base_numbering": 1,
   "nav_menu": {},
   "number_sections": true,
   "sideBar": true,
   "skip_h1_title": false,
   "title_cell": "Table of Contents",
   "title_sidebar": "Contents",
   "toc_cell": true,
   "toc_position": {},
   "toc_section_display": true,
   "toc_window_display": true
  },
  "varInspector": {
   "cols": {
    "lenName": 16,
    "lenType": 16,
    "lenVar": 40
   },
   "kernels_config": {
    "python": {
     "delete_cmd_postfix": "",
     "delete_cmd_prefix": "del ",
     "library": "var_list.py",
     "varRefreshCmd": "print(var_dic_list())"
    },
    "r": {
     "delete_cmd_postfix": ") ",
     "delete_cmd_prefix": "rm(",
     "library": "var_list.r",
     "varRefreshCmd": "cat(var_dic_list()) "
    }
   },
   "types_to_exclude": [
    "module",
    "function",
    "builtin_function_or_method",
    "instance",
    "_Feature"
   ],
   "window_display": false
  }
 },
 "nbformat": 4,
 "nbformat_minor": 5
}
