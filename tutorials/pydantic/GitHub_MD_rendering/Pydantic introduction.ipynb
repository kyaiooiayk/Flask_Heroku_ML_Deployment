{
 "cells": [
  {
   "cell_type": "markdown",
   "id": "64b22236",
   "metadata": {
    "toc": true
   },
   "source": [
    "<h1>Table of Contents<span class=\"tocSkip\"></span></h1>\n",
""   ]
  },
  {
   "cell_type": "markdown",
   "id": "5fc60f40",
   "metadata": {},
   "source": [
    "# Introduction\n",
    "<hr style=\"border:2px solid black\"> </hr>"
   ]
  },
  {
   "cell_type": "markdown",
   "id": "ccb5a9b4",
   "metadata": {},
   "source": [
    "\n",
    "**What?** Pydantic introduction\n",
    "\n",
""   ]
  },
  {
   "cell_type": "markdown",
   "id": "61fdede0",
   "metadata": {},
   "source": [
    "# Imports\n",
    "<hr style=\"border:2px solid black\"> </hr>"
   ]
  },
  {
   "cell_type": "code",
   "execution_count": 37,
   "id": "d85db6ff",
   "metadata": {
    "ExecuteTime": {
     "end_time": "2023-06-29T18:46:59.911624Z",
     "start_time": "2023-06-29T18:46:59.908934Z"
    }
   },
   "outputs": [],
   "source": [
    "from datetime import datetime\n",
    "from typing import List, Optional\n",
    "from pydantic import BaseModel\n",
    "from pydantic import ValidationError\n",
    "from pydantic import Field"
   ]
  },
  {
   "cell_type": "markdown",
   "id": "f3414d5a",
   "metadata": {},
   "source": [
    "# With pydantic\n",
    "<hr style=\"border:2px solid black\"> </hr>"
   ]
  },
  {
   "cell_type": "code",
   "execution_count": 21,
   "id": "5a85dfb5",
   "metadata": {
    "ExecuteTime": {
     "end_time": "2023-06-29T18:41:05.598315Z",
     "start_time": "2023-06-29T18:41:05.594850Z"
    }
   },
   "outputs": [],
   "source": [
    "class User(BaseModel):\n",
    "    item_id: int\n",
    "    name = 'John Doe'\n",
    "    signup_ts: Optional[datetime] = None\n",
    "    friends: List[int] = []"
   ]
  },
  {
   "cell_type": "code",
   "execution_count": 22,
   "id": "e84d130b",
   "metadata": {
    "ExecuteTime": {
     "end_time": "2023-06-29T18:41:09.669868Z",
     "start_time": "2023-06-29T18:41:09.667230Z"
    }
   },
   "outputs": [],
   "source": [
    "external_data = {\n",
    "    'item_id': '123',\n",
    "    'signup_ts': '2019-06-01 12:22',\n",
    "    'friends': [1, 2, '3'],\n",
    "}"
   ]
  },
  {
   "cell_type": "code",
   "execution_count": 23,
   "id": "0e1e5ab3",
   "metadata": {
    "ExecuteTime": {
     "end_time": "2023-06-29T18:41:10.344466Z",
     "start_time": "2023-06-29T18:41:10.341973Z"
    }
   },
   "outputs": [],
   "source": [
    "user = User(**external_data)"
   ]
  },
  {
   "cell_type": "code",
   "execution_count": 25,
   "id": "d02f4215",
   "metadata": {
    "ExecuteTime": {
     "end_time": "2023-06-29T18:41:31.902019Z",
     "start_time": "2023-06-29T18:41:31.898268Z"
    }
   },
   "outputs": [
    {
     "data": {
      "text/plain": [
       "{'item_id': 123,\n",
       " 'signup_ts': datetime.datetime(2019, 6, 1, 12, 22),\n",
       " 'friends': [1, 2, 3],\n",
       " 'name': 'John Doe'}"
      ]
     },
     "execution_count": 25,
     "metadata": {},
     "output_type": "execute_result"
    }
   ],
   "source": [
    "user.dict()"
   ]
  },
  {
   "cell_type": "markdown",
   "id": "ce4e06ec",
   "metadata": {},
   "source": [
    "# How pydantic fails\n",
    "<hr style=\"border:2px solid black\"> </hr>"
   ]
  },
  {
   "cell_type": "code",
   "execution_count": 26,
   "id": "393e9aff",
   "metadata": {
    "ExecuteTime": {
     "end_time": "2023-06-29T18:41:41.238356Z",
     "start_time": "2023-06-29T18:41:41.235817Z"
    }
   },
   "outputs": [],
   "source": [
    "external_data = {\n",
    "    'item_id': '123',\n",
    "    'signup_ts': '2019-06-01 12:22',\n",
    "    'friends': [1, 2, 'not number'],\n",
    "}"
   ]
  },
  {
   "cell_type": "code",
   "execution_count": 27,
   "id": "d6baa9e8",
   "metadata": {
    "ExecuteTime": {
     "end_time": "2023-06-29T18:41:41.670906Z",
     "start_time": "2023-06-29T18:41:41.661929Z"
    }
   },
   "outputs": [
    {
     "ename": "ValidationError",
     "evalue": "1 validation error for User\nfriends -> 2\n  value is not a valid integer (type=type_error.integer)",
     "output_type": "error",
     "traceback": [
      "\u001b[0;31m---------------------------------------------------------------------------\u001b[0m",
      "\u001b[0;31mValidationError\u001b[0m                           Traceback (most recent call last)",
      "\u001b[0;32m/var/folders/5x/lyqr8wv507n43bnwpsz4dq_c0000gn/T/ipykernel_68746/1596320183.py\u001b[0m in \u001b[0;36m<module>\u001b[0;34m\u001b[0m\n\u001b[0;32m----> 1\u001b[0;31m \u001b[0muser\u001b[0m \u001b[0;34m=\u001b[0m \u001b[0mUser\u001b[0m\u001b[0;34m(\u001b[0m\u001b[0;34m**\u001b[0m\u001b[0mexternal_data\u001b[0m\u001b[0;34m)\u001b[0m\u001b[0;34m\u001b[0m\u001b[0;34m\u001b[0m\u001b[0m\n\u001b[0m",
      "\u001b[0;32m/opt/anaconda3/envs/trainingAI/lib/python3.9/site-packages/pydantic/main.cpython-39-darwin.so\u001b[0m in \u001b[0;36mpydantic.main.BaseModel.__init__\u001b[0;34m()\u001b[0m\n",
      "\u001b[0;31mValidationError\u001b[0m: 1 validation error for User\nfriends -> 2\n  value is not a valid integer (type=type_error.integer)"
     ]
    }
   ],
   "source": [
    "user = User(**external_data)"
   ]
  },
  {
   "cell_type": "code",
   "execution_count": 28,
   "id": "18f1442c",
   "metadata": {
    "ExecuteTime": {
     "end_time": "2023-06-29T18:41:44.972511Z",
     "start_time": "2023-06-29T18:41:44.969181Z"
    }
   },
   "outputs": [
    {
     "name": "stdout",
     "output_type": "stream",
     "text": [
      "[\n",
      "  {\n",
      "    \"loc\": [\n",
      "      \"item_id\"\n",
      "    ],\n",
      "    \"msg\": \"field required\",\n",
      "    \"type\": \"value_error.missing\"\n",
      "  },\n",
      "  {\n",
      "    \"loc\": [\n",
      "      \"signup_ts\"\n",
      "    ],\n",
      "    \"msg\": \"invalid datetime format\",\n",
      "    \"type\": \"value_error.datetime\"\n",
      "  },\n",
      "  {\n",
      "    \"loc\": [\n",
      "      \"friends\",\n",
      "      2\n",
      "    ],\n",
      "    \"msg\": \"value is not a valid integer\",\n",
      "    \"type\": \"type_error.integer\"\n",
      "  }\n",
      "]\n"
     ]
    }
   ],
   "source": [
    "try:\n",
    "    User(signup_ts='broken', friends=[1, 2, 'not number'])\n",
    "except ValidationError as e:\n",
    "    print(e.json())"
   ]
  },
  {
   "cell_type": "markdown",
   "id": "9487460b",
   "metadata": {},
   "source": [
    "# `Field` and some weird behaviour with \"_\"\n",
    "<hr style=\"border:2px solid black\"> </hr>"
   ]
  },
  {
   "cell_type": "markdown",
   "id": "19dd7aa1",
   "metadata": {},
   "source": [
    "    \n",
    "- pay attention if your variable start with an `_` as in `_id`\n",
    "- Surprisingly (or at least surprising to me), Pydantic hides fields that start with an underscore (regardless of how you try to access them).\n",
    "- To be able to use those variables you need to use an alias with `Field`\n",
    "\n",
""   ]
  },
  {
   "cell_type": "code",
   "execution_count": 29,
   "id": "36380fcf",
   "metadata": {
    "ExecuteTime": {
     "end_time": "2023-06-29T18:45:18.368807Z",
     "start_time": "2023-06-29T18:45:18.365476Z"
    }
   },
   "outputs": [],
   "source": [
    "class User(BaseModel):\n",
    "    _id: int\n",
    "    name = 'John Doe'\n",
    "    signup_ts: Optional[datetime] = None\n",
    "    friends: List[int] = []"
   ]
  },
  {
   "cell_type": "code",
   "execution_count": 32,
   "id": "1b4d3d41",
   "metadata": {
    "ExecuteTime": {
     "end_time": "2023-06-29T18:45:43.500512Z",
     "start_time": "2023-06-29T18:45:43.498046Z"
    }
   },
   "outputs": [],
   "source": [
    "external_data = {\n",
    "    '_id': '123',\n",
    "    'signup_ts': '2019-06-01 12:22',\n",
    "    'friends': [1, 2, 3],\n",
    "}"
   ]
  },
  {
   "cell_type": "code",
   "execution_count": 33,
   "id": "8e64b409",
   "metadata": {
    "ExecuteTime": {
     "end_time": "2023-06-29T18:45:43.973174Z",
     "start_time": "2023-06-29T18:45:43.970759Z"
    }
   },
   "outputs": [],
   "source": [
    "user = User(**external_data)"
   ]
  },
  {
   "cell_type": "code",
   "execution_count": 35,
   "id": "8348736d",
   "metadata": {
    "ExecuteTime": {
     "end_time": "2023-06-29T18:46:09.466888Z",
     "start_time": "2023-06-29T18:46:09.462936Z"
    }
   },
   "outputs": [
    {
     "data": {
      "text/plain": [
       "{'signup_ts': datetime.datetime(2019, 6, 1, 12, 22),\n",
       " 'friends': [1, 2, 3],\n",
       " 'name': 'John Doe'}"
      ]
     },
     "execution_count": 35,
     "metadata": {},
     "output_type": "execute_result"
    }
   ],
   "source": [
    "# where is _id?\n",
    "user.dict()"
   ]
  },
  {
   "cell_type": "code",
   "execution_count": 102,
   "id": "20ea90d6",
   "metadata": {
    "ExecuteTime": {
     "end_time": "2023-06-29T18:53:15.579727Z",
     "start_time": "2023-06-29T18:53:15.576927Z"
    }
   },
   "outputs": [],
   "source": [
    "class Item(BaseModel):\n",
    "    _id: str\n",
    "    is_available: bool  # 1"
   ]
  },
  {
   "cell_type": "code",
   "execution_count": 103,
   "id": "d9eda3f3",
   "metadata": {
    "ExecuteTime": {
     "end_time": "2023-06-29T18:53:15.872274Z",
     "start_time": "2023-06-29T18:53:15.869792Z"
    }
   },
   "outputs": [],
   "source": [
    "item1 = Item(_id='test-item-id', is_available=True) "
   ]
  },
  {
   "cell_type": "code",
   "execution_count": 104,
   "id": "ff955249",
   "metadata": {
    "ExecuteTime": {
     "end_time": "2023-06-29T18:53:16.279035Z",
     "start_time": "2023-06-29T18:53:16.275333Z"
    }
   },
   "outputs": [
    {
     "data": {
      "text/plain": [
       "{'is_available': True}"
      ]
     },
     "execution_count": 104,
     "metadata": {},
     "output_type": "execute_result"
    }
   ],
   "source": [
    "# where is _id?\n",
    "item1.dict()"
   ]
  },
  {
   "cell_type": "code",
   "execution_count": 108,
   "id": "c63c65d0",
   "metadata": {
    "ExecuteTime": {
     "end_time": "2023-06-29T18:54:39.326035Z",
     "start_time": "2023-06-29T18:54:39.322776Z"
    }
   },
   "outputs": [],
   "source": [
    "class Item(BaseModel):\n",
    "    item_id: str = Field(alias=\"_id\")\n",
    "    is_available: bool  # 1"
   ]
  },
  {
   "cell_type": "code",
   "execution_count": 109,
   "id": "7782bca5",
   "metadata": {
    "ExecuteTime": {
     "end_time": "2023-06-29T18:54:44.816144Z",
     "start_time": "2023-06-29T18:54:44.813354Z"
    }
   },
   "outputs": [],
   "source": [
    "item1 = Item(_id='test-item-id', is_available=True) "
   ]
  },
  {
   "cell_type": "code",
   "execution_count": 110,
   "id": "1ae49b02",
   "metadata": {
    "ExecuteTime": {
     "end_time": "2023-06-29T18:54:45.268299Z",
     "start_time": "2023-06-29T18:54:45.264894Z"
    }
   },
   "outputs": [
    {
     "data": {
      "text/plain": [
       "{'item_id': 'test-item-id', 'is_available': True}"
      ]
     },
     "execution_count": 110,
     "metadata": {},
     "output_type": "execute_result"
    }
   ],
   "source": [
    "# where is _id?\n",
    "item1.dict()"
   ]
  },
  {
   "cell_type": "markdown",
   "id": "def01d03",
   "metadata": {},
   "source": [
    "# References\n",
    "<hr style=\"border:2px solid black\"> </hr>"
   ]
  },
  {
   "cell_type": "markdown",
   "id": "1ef302c3",
   "metadata": {},
   "source": [
    "\n",
    "- [Pydantic official documentation](https://docs.pydantic.dev/latest/)\n",
    "- [Cool things you can do with Pydantic](https://medium.com/swlh/cool-things-you-can-do-with-pydantic-fc1c948fbde0)\n",
    "\n",
""   ]
  },
  {
   "cell_type": "code",
   "execution_count": null,
   "id": "8246af57",
   "metadata": {},
   "outputs": [],
   "source": []
  }
 ],
 "metadata": {
  "kernelspec": {
   "display_name": "trainingAI",
   "language": "python",
   "name": "trainingai"
  },
  "language_info": {
   "codemirror_mode": {
    "name": "ipython",
    "version": 3
   },
   "file_extension": ".py",
   "mimetype": "text/x-python",
   "name": "python",
   "nbconvert_exporter": "python",
   "pygments_lexer": "ipython3",
   "version": "3.9.7"
  },
  "toc": {
   "base_numbering": 1,
   "nav_menu": {},
   "number_sections": true,
   "sideBar": true,
   "skip_h1_title": false,
   "title_cell": "Table of Contents",
   "title_sidebar": "Contents",
   "toc_cell": true,
   "toc_position": {
    "height": "calc(100% - 180px)",
    "left": "10px",
    "top": "150px",
    "width": "185.933px"
   },
   "toc_section_display": true,
   "toc_window_display": true
  },
  "varInspector": {
   "cols": {
    "lenName": 16,
    "lenType": 16,
    "lenVar": 40
   },
   "kernels_config": {
    "python": {
     "delete_cmd_postfix": "",
     "delete_cmd_prefix": "del ",
     "library": "var_list.py",
     "varRefreshCmd": "print(var_dic_list())"
    },
    "r": {
     "delete_cmd_postfix": ") ",
     "delete_cmd_prefix": "rm(",
     "library": "var_list.r",
     "varRefreshCmd": "cat(var_dic_list()) "
    }
   },
   "types_to_exclude": [
    "module",
    "function",
    "builtin_function_or_method",
    "instance",
    "_Feature"
   ],
   "window_display": false
  }
 },
 "nbformat": 4,
 "nbformat_minor": 5
}
