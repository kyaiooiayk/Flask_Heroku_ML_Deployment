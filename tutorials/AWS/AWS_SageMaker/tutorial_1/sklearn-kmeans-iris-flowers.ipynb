{
 "cells": [
  {
   "cell_type": "code",
   "execution_count": 3,
   "metadata": {},
   "outputs": [
    {
     "name": "stderr",
     "output_type": "stream",
     "text": [
      "INFO:sagemaker:Creating training-job with name: sagemaker-scikit-learn-2019-04-30-07-13-14-329\n"
     ]
    },
    {
     "name": "stdout",
     "output_type": "stream",
     "text": [
      "2019-04-30 07:13:14 Starting - Starting the training job...\n",
      "2019-04-30 07:13:16 Starting - Launching requested ML instances......\n",
      "2019-04-30 07:14:19 Starting - Preparing the instances for training......\n",
      "2019-04-30 07:15:40 Downloading - Downloading input data\n",
      "2019-04-30 07:15:40 Training - Training image download completed. Training in progress.\n",
      "2019-04-30 07:15:40 Uploading - Uploading generated training model\n",
      "2019-04-30 07:15:40 Completed - Training job completed\n",
      "\n",
      "\u001b[31m2019-04-30 07:15:29,383 sagemaker-containers INFO     Imported framework sagemaker_sklearn_container.training\u001b[0m\n",
      "\u001b[31m2019-04-30 07:15:29,387 sagemaker-containers INFO     No GPUs detected (normal if no gpus installed)\u001b[0m\n",
      "\u001b[31m2019-04-30 07:15:29,406 sagemaker_sklearn_container.training INFO     Invoking user training script.\u001b[0m\n",
      "\u001b[31m2019-04-30 07:15:29,682 sagemaker-containers INFO     Module sklearn-kmeans-training-script does not provide a setup.py. \u001b[0m\n",
      "\u001b[31mGenerating setup.py\u001b[0m\n",
      "\u001b[31m2019-04-30 07:15:29,682 sagemaker-containers INFO     Generating setup.cfg\u001b[0m\n",
      "\u001b[31m2019-04-30 07:15:29,682 sagemaker-containers INFO     Generating MANIFEST.in\u001b[0m\n",
      "\u001b[31m2019-04-30 07:15:29,682 sagemaker-containers INFO     Installing module with the following command:\u001b[0m\n",
      "\u001b[31m/usr/bin/python3 -m pip install -U . \u001b[0m\n",
      "\u001b[31mProcessing /opt/ml/code\u001b[0m\n",
      "\u001b[31mBuilding wheels for collected packages: sklearn-kmeans-training-script\n",
      "  Running setup.py bdist_wheel for sklearn-kmeans-training-script: started\n",
      "  Running setup.py bdist_wheel for sklearn-kmeans-training-script: finished with status 'done'\n",
      "  Stored in directory: /tmp/pip-ephem-wheel-cache-36dncl1_/wheels/35/24/16/37574d11bf9bde50616c67372a334f94fa8356bc7164af8ca3\u001b[0m\n",
      "\u001b[31mSuccessfully built sklearn-kmeans-training-script\u001b[0m\n",
      "\u001b[31mInstalling collected packages: sklearn-kmeans-training-script\u001b[0m\n",
      "\u001b[31mSuccessfully installed sklearn-kmeans-training-script-1.0.0\u001b[0m\n",
      "\u001b[31mYou are using pip version 18.1, however version 19.1 is available.\u001b[0m\n",
      "\u001b[31mYou should consider upgrading via the 'pip install --upgrade pip' command.\u001b[0m\n",
      "\u001b[31m2019-04-30 07:15:31,182 sagemaker-containers INFO     No GPUs detected (normal if no gpus installed)\u001b[0m\n",
      "\u001b[31m2019-04-30 07:15:31,197 sagemaker-containers INFO     Invoking user script\n",
      "\u001b[0m\n",
      "\u001b[31mTraining Env:\n",
      "\u001b[0m\n",
      "\u001b[31m{\n",
      "    \"module_dir\": \"s3://awsml-sagemaker-results/sagemaker-scikit-learn-2019-04-30-07-13-14-329/source/sourcedir.tar.gz\",\n",
      "    \"log_level\": 20,\n",
      "    \"output_data_dir\": \"/opt/ml/output/data\",\n",
      "    \"resource_config\": {\n",
      "        \"current_host\": \"algo-1\",\n",
      "        \"network_interface_name\": \"ethwe\",\n",
      "        \"hosts\": [\n",
      "            \"algo-1\"\n",
      "        ]\n",
      "    },\n",
      "    \"model_dir\": \"/opt/ml/model\",\n",
      "    \"input_data_config\": {\n",
      "        \"train\": {\n",
      "            \"RecordWrapperType\": \"None\",\n",
      "            \"TrainingInputMode\": \"File\",\n",
      "            \"S3DistributionType\": \"FullyReplicated\"\n",
      "        }\n",
      "    },\n",
      "    \"module_name\": \"sklearn-kmeans-training-script\",\n",
      "    \"hosts\": [\n",
      "        \"algo-1\"\n",
      "    ],\n",
      "    \"channel_input_dirs\": {\n",
      "        \"train\": \"/opt/ml/input/data/train\"\n",
      "    },\n",
      "    \"num_gpus\": 0,\n",
      "    \"output_intermediate_dir\": \"/opt/ml/output/intermediate\",\n",
      "    \"current_host\": \"algo-1\",\n",
      "    \"user_entry_point\": \"sklearn-kmeans-training-script.py\",\n",
      "    \"framework_module\": \"sagemaker_sklearn_container.training:main\",\n",
      "    \"input_config_dir\": \"/opt/ml/input/config\",\n",
      "    \"network_interface_name\": \"ethwe\",\n",
      "    \"num_cpus\": 4,\n",
      "    \"output_dir\": \"/opt/ml/output\",\n",
      "    \"input_dir\": \"/opt/ml/input\",\n",
      "    \"job_name\": \"sagemaker-scikit-learn-2019-04-30-07-13-14-329\",\n",
      "    \"hyperparameters\": {\n",
      "        \"n_clusters\": 3\n",
      "    },\n",
      "    \"additional_framework_parameters\": {}\u001b[0m\n",
      "\u001b[31m}\n",
      "\u001b[0m\n",
      "\u001b[31mEnvironment variables:\n",
      "\u001b[0m\n",
      "\u001b[31mSM_OUTPUT_INTERMEDIATE_DIR=/opt/ml/output/intermediate\u001b[0m\n",
      "\u001b[31mSM_USER_ENTRY_POINT=sklearn-kmeans-training-script.py\u001b[0m\n",
      "\u001b[31mSM_OUTPUT_DATA_DIR=/opt/ml/output/data\u001b[0m\n",
      "\u001b[31mSM_CHANNELS=[\"train\"]\u001b[0m\n",
      "\u001b[31mSM_CHANNEL_TRAIN=/opt/ml/input/data/train\u001b[0m\n",
      "\u001b[31mSM_NUM_GPUS=0\u001b[0m\n",
      "\u001b[31mSM_NUM_CPUS=4\u001b[0m\n",
      "\u001b[31mSM_OUTPUT_DIR=/opt/ml/output\u001b[0m\n",
      "\u001b[31mSM_MODULE_NAME=sklearn-kmeans-training-script\u001b[0m\n",
      "\u001b[31mSM_LOG_LEVEL=20\u001b[0m\n",
      "\u001b[31mSM_HPS={\"n_clusters\":3}\u001b[0m\n",
      "\u001b[31mSM_NETWORK_INTERFACE_NAME=ethwe\u001b[0m\n",
      "\u001b[31mSM_TRAINING_ENV={\"additional_framework_parameters\":{},\"channel_input_dirs\":{\"train\":\"/opt/ml/input/data/train\"},\"current_host\":\"algo-1\",\"framework_module\":\"sagemaker_sklearn_container.training:main\",\"hosts\":[\"algo-1\"],\"hyperparameters\":{\"n_clusters\":3},\"input_config_dir\":\"/opt/ml/input/config\",\"input_data_config\":{\"train\":{\"RecordWrapperType\":\"None\",\"S3DistributionType\":\"FullyReplicated\",\"TrainingInputMode\":\"File\"}},\"input_dir\":\"/opt/ml/input\",\"job_name\":\"sagemaker-scikit-learn-2019-04-30-07-13-14-329\",\"log_level\":20,\"model_dir\":\"/opt/ml/model\",\"module_dir\":\"s3://awsml-sagemaker-results/sagemaker-scikit-learn-2019-04-30-07-13-14-329/source/sourcedir.tar.gz\",\"module_name\":\"sklearn-kmeans-training-script\",\"network_interface_name\":\"ethwe\",\"num_cpus\":4,\"num_gpus\":0,\"output_data_dir\":\"/opt/ml/output/data\",\"output_dir\":\"/opt/ml/output\",\"output_intermediate_dir\":\"/opt/ml/output/intermediate\",\"resource_config\":{\"current_host\":\"algo-1\",\"hosts\":[\"algo-1\"],\"network_interface_name\":\"ethwe\"},\"user_entry_point\":\"sklearn-kmeans-training-script.py\"}\u001b[0m\n",
      "\u001b[31mSM_MODEL_DIR=/opt/ml/model\u001b[0m\n",
      "\u001b[31mSM_CURRENT_HOST=algo-1\u001b[0m\n",
      "\u001b[31mSM_FRAMEWORK_MODULE=sagemaker_sklearn_container.training:main\u001b[0m\n",
      "\u001b[31mSM_HP_N_CLUSTERS=3\u001b[0m\n",
      "\u001b[31mSM_RESOURCE_CONFIG={\"current_host\":\"algo-1\",\"hosts\":[\"algo-1\"],\"network_interface_name\":\"ethwe\"}\u001b[0m\n",
      "\u001b[31mPYTHONPATH=/usr/local/bin:/usr/lib/python35.zip:/usr/lib/python3.5:/usr/lib/python3.5/plat-x86_64-linux-gnu:/usr/lib/python3.5/lib-dynload:/usr/local/lib/python3.5/dist-packages:/usr/lib/python3/dist-packages\u001b[0m\n",
      "\u001b[31mSM_INPUT_CONFIG_DIR=/opt/ml/input/config\u001b[0m\n",
      "\u001b[31mSM_HOSTS=[\"algo-1\"]\u001b[0m\n",
      "\u001b[31mSM_INPUT_DATA_CONFIG={\"train\":{\"RecordWrapperType\":\"None\",\"S3DistributionType\":\"FullyReplicated\",\"TrainingInputMode\":\"File\"}}\u001b[0m\n",
      "\u001b[31mSM_MODULE_DIR=s3://awsml-sagemaker-results/sagemaker-scikit-learn-2019-04-30-07-13-14-329/source/sourcedir.tar.gz\u001b[0m\n",
      "\u001b[31mSM_FRAMEWORK_PARAMS={}\u001b[0m\n",
      "\u001b[31mSM_USER_ARGS=[\"--n_clusters\",\"3\"]\u001b[0m\n",
      "\u001b[31mSM_INPUT_DIR=/opt/ml/input\n",
      "\u001b[0m\n",
      "\u001b[31mInvoking script with the following command:\n",
      "\u001b[0m\n",
      "\u001b[31m/usr/bin/python3 -m sklearn-kmeans-training-script --n_clusters 3\n",
      "\n",
      "\u001b[0m\n",
      "\u001b[31m2019-04-30 07:15:32,669 sagemaker-containers INFO     Reporting training SUCCESS\u001b[0m\n",
      "Billable seconds: 23\n"
     ]
    }
   ],
   "source": [
    "import sagemaker\n",
    "\n",
    "# Get a SageMaker-compatible role used by this Notebook Instance.\n",
    "role = sagemaker.get_execution_role()\n",
    "\n",
    "# get a SageMaker session object, that can be\n",
    "# used to manage the interaction with the SageMaker API.\n",
    "sagemaker_session = sagemaker.Session()\n",
    "\n",
    "# train a Scikit-Learn KMeans classifier on a dedicated instance\n",
    "# send hyperparameter n_clusters = 3.\n",
    "from sagemaker.sklearn.estimator import SKLearn\n",
    "\n",
    "sklearn = SKLearn(entry_point='sklearn-kmeans-training-script.py', \n",
    "                  train_instance_type='ml.m4.xlarge', \n",
    "                  role=role, \n",
    "                  sagemaker_session=sagemaker_session, \n",
    "                  hyperparameters={'n_clusters': 3},\n",
    "                  output_path='s3://awsml-sagemaker-results/')\n",
    " \n",
    "sklearn.fit({'train': 's3://awsml-sagemaker-source/'})"
   ]
  },
  {
   "cell_type": "code",
   "execution_count": 4,
   "metadata": {},
   "outputs": [
    {
     "name": "stderr",
     "output_type": "stream",
     "text": [
      "INFO:sagemaker:Creating model with name: sagemaker-scikit-learn-2019-04-30-07-13-14-329\n",
      "INFO:sagemaker:Creating endpoint with name sagemaker-scikit-learn-2019-04-30-07-13-14-329\n"
     ]
    },
    {
     "name": "stdout",
     "output_type": "stream",
     "text": [
      "---------------------------------------------------------------------------!"
     ]
    }
   ],
   "source": [
    "# create a prediction instance\n",
    "predictor = sklearn.deploy(initial_instance_count=1, instance_type=\"ml.m4.xlarge\")"
   ]
  },
  {
   "cell_type": "code",
   "execution_count": 5,
   "metadata": {},
   "outputs": [
    {
     "name": "stdout",
     "output_type": "stream",
     "text": [
      "[1 2 0 2 2 2 2 0 2 2 0 1 2 1 0 1 1 0 0 0 2 1 2 2 2 2 2 2 1 2 1 2 1 1 2 2 2\n",
      " 0]\n"
     ]
    }
   ],
   "source": [
    "# load iris_test.csv from Amazon S3 and split the features \n",
    "# and target variables into separate dataframes.\n",
    "import boto3\n",
    "import sagemaker\n",
    "import io\n",
    "\n",
    "import pandas as pd\n",
    "import numpy as np\n",
    "\n",
    "# load training and validation dataset from Amazon S3\n",
    "s3_client = boto3.client('s3')\n",
    "s3_bucket_name='awsml-sagemaker-source'\n",
    "\n",
    "response = s3_client.get_object(Bucket='awsml-sagemaker-source', Key='iris_test.csv')\n",
    "response_body = response[\"Body\"].read()\n",
    "df_iris_test = pd.read_csv(io.BytesIO(response_body), header=0, index_col=False, delimiter=\",\", low_memory=False)\n",
    "\n",
    "# Convert target variables 'species' from strings into integers.\n",
    "from sklearn.preprocessing import LabelEncoder\n",
    "labelEncoder = LabelEncoder()\n",
    "labelEncoder.fit(df_iris_test['species'])\n",
    "df_iris_test['species'] = labelEncoder.transform(df_iris_test['species'])\n",
    "\n",
    "# separate training anf validation dataset into separate features and target variables\n",
    "# assume that the first column in each dataset is the target variable.\n",
    "df_iris_features_test= df_iris_test.iloc[:,1:]\n",
    "df_iris_target_test = df_iris_test.iloc[:,0]\n",
    "\n",
    "# use the prediction instance to create predictions.\n",
    "predictions = predictor.predict(df_iris_features_test.values)\n",
    "print (predictions)"
   ]
  },
  {
   "cell_type": "code",
   "execution_count": 6,
   "metadata": {},
   "outputs": [
    {
     "name": "stderr",
     "output_type": "stream",
     "text": [
      "INFO:sagemaker:Deleting endpoint with name: sagemaker-scikit-learn-2019-04-30-07-13-14-329\n"
     ]
    }
   ],
   "source": [
    "sklearn.delete_endpoint()"
   ]
  },
  {
   "cell_type": "code",
   "execution_count": null,
   "metadata": {},
   "outputs": [],
   "source": []
  }
 ],
 "metadata": {
  "kernelspec": {
   "display_name": "Python (AWS_ML_Book)",
   "language": "python",
   "name": "aws_ml_book"
  },
  "language_info": {
   "codemirror_mode": {
    "name": "ipython",
    "version": 3
   },
   "file_extension": ".py",
   "mimetype": "text/x-python",
   "name": "python",
   "nbconvert_exporter": "python",
   "pygments_lexer": "ipython3",
   "version": "3.7.2"
  }
 },
 "nbformat": 4,
 "nbformat_minor": 2
}
