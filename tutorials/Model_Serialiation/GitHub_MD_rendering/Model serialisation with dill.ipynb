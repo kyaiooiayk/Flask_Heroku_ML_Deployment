{
 "cells": [
  {
   "cell_type": "markdown",
   "id": "2d433b5f",
   "metadata": {
    "toc": true
   },
   "source": [
    "<h1>Table of Contents<span class=\"tocSkip\"></span></h1>\n",
    "<div class=\"toc\"><ul class=\"toc-item\"><li><span><a href=\"#Introduction\" data-toc-modified-id=\"Introduction-1\"><span class=\"toc-item-num\">1&nbsp;&nbsp;</span>Introduction</a></span></li><li><span><a href=\"#Import-modules\" data-toc-modified-id=\"Import-modules-2\"><span class=\"toc-item-num\">2&nbsp;&nbsp;</span>Import modules</a></span></li><li><span><a href=\"#Load-dataset\" data-toc-modified-id=\"Load-dataset-3\"><span class=\"toc-item-num\">3&nbsp;&nbsp;</span>Load dataset</a></span></li><li><span><a href=\"#Create-pipeline\" data-toc-modified-id=\"Create-pipeline-4\"><span class=\"toc-item-num\">4&nbsp;&nbsp;</span>Create pipeline</a></span></li><li><span><a href=\"#Fit-pipeline\" data-toc-modified-id=\"Fit-pipeline-5\"><span class=\"toc-item-num\">5&nbsp;&nbsp;</span>Fit pipeline</a></span></li><li><span><a href=\"#Serialise-model\" data-toc-modified-id=\"Serialise-model-6\"><span class=\"toc-item-num\">6&nbsp;&nbsp;</span>Serialise model</a></span></li><li><span><a href=\"#Deserialise-model\" data-toc-modified-id=\"Deserialise-model-7\"><span class=\"toc-item-num\">7&nbsp;&nbsp;</span>Deserialise model</a></span></li><li><span><a href=\"#Clean-up\" data-toc-modified-id=\"Clean-up-8\"><span class=\"toc-item-num\">8&nbsp;&nbsp;</span>Clean-up</a></span></li><li><span><a href=\"#References\" data-toc-modified-id=\"References-9\"><span class=\"toc-item-num\">9&nbsp;&nbsp;</span>References</a></span></li></ul></div>"
   ]
  },
  {
   "cell_type": "markdown",
   "id": "0511a41e",
   "metadata": {},
   "source": [
    "# Introduction\n",
    "<hr style = \"border:2px solid black\" ></hr>"
   ]
  },
  {
   "cell_type": "markdown",
   "id": "31019725",
   "metadata": {},
   "source": [
    "\n",
    "**What?** Model serialisation with dill\n",
    "\n"
   ]
  },
  {
   "cell_type": "markdown",
   "id": "1d214df9",
   "metadata": {},
   "source": [
    "# Import modules\n",
    "<hr style = \"border:2px solid black\" ></hr>"
   ]
  },
  {
   "cell_type": "code",
   "execution_count": 13,
   "id": "51828994",
   "metadata": {
    "ExecuteTime": {
     "end_time": "2022-03-09T19:43:58.136381Z",
     "start_time": "2022-03-09T19:43:58.133134Z"
    }
   },
   "outputs": [],
   "source": [
    "import pickle\n",
    "import inspect\n",
    "import dill\n",
    "from sklearn.datasets import load_iris\n",
    "from sklearn.ensemble import RandomForestClassifier\n",
    "from sklearn.model_selection import train_test_split\n",
    "from sklearn.pipeline import Pipeline\n",
    "from sklearn.preprocessing import FunctionTransformer"
   ]
  },
  {
   "cell_type": "markdown",
   "id": "e66bc09c",
   "metadata": {},
   "source": [
    "# Load dataset\n",
    "<hr style = \"border:2px solid black\" ></hr>"
   ]
  },
  {
   "cell_type": "code",
   "execution_count": 3,
   "id": "89aca8e5",
   "metadata": {
    "ExecuteTime": {
     "end_time": "2022-03-09T19:40:59.290106Z",
     "start_time": "2022-03-09T19:40:59.281584Z"
    }
   },
   "outputs": [],
   "source": [
    "data = load_iris()\n",
    "X = data[\"data\"]\n",
    "y = data[\"target\"]"
   ]
  },
  {
   "cell_type": "code",
   "execution_count": 4,
   "id": "a5dc6ae5",
   "metadata": {
    "ExecuteTime": {
     "end_time": "2022-03-09T19:41:10.537225Z",
     "start_time": "2022-03-09T19:41:10.532363Z"
    }
   },
   "outputs": [],
   "source": [
    "# Split into training/testing sets\n",
    "X_train, X_test, y_train, y_test = train_test_split(X, y)"
   ]
  },
  {
   "cell_type": "markdown",
   "id": "3ad2d52a",
   "metadata": {},
   "source": [
    "# Create pipeline\n",
    "<hr style = \"border:2px solid black\" ></hr>"
   ]
  },
  {
   "cell_type": "code",
   "execution_count": 5,
   "id": "8b8b33fd",
   "metadata": {
    "ExecuteTime": {
     "end_time": "2022-03-09T19:41:30.314345Z",
     "start_time": "2022-03-09T19:41:30.310695Z"
    }
   },
   "outputs": [],
   "source": [
    "#  Create a function for use with the FunctionTransformer\n",
    "# Transform function that relies on imported package\n",
    "def scale(X_input):\n",
    "    \"\"\"Scale the input matrix.\"\"\"\n",
    "    import os\n",
    "    scale_factor = os.getenv(\"SCALE_FACTOR\", 2)\n",
    "    return X_input * scale_factor"
   ]
  },
  {
   "cell_type": "code",
   "execution_count": 6,
   "id": "2cddb93d",
   "metadata": {
    "ExecuteTime": {
     "end_time": "2022-03-09T19:41:42.081059Z",
     "start_time": "2022-03-09T19:41:42.077991Z"
    }
   },
   "outputs": [],
   "source": [
    "# Create a simple toy model that transforms the dataset\n",
    "# and uses a random forest\n",
    "model = Pipeline(\n",
    "    [\n",
    "        (\"transform\", FunctionTransformer(scale)),\n",
    "        (\"forest\", RandomForestClassifier())\n",
    "    ]\n",
    ")"
   ]
  },
  {
   "cell_type": "markdown",
   "id": "e531299b",
   "metadata": {},
   "source": [
    "# Fit pipeline\n",
    "<hr style = \"border:2px solid black\" ></hr>"
   ]
  },
  {
   "cell_type": "code",
   "execution_count": 7,
   "id": "4f9cd9bb",
   "metadata": {
    "ExecuteTime": {
     "end_time": "2022-03-09T19:41:57.025554Z",
     "start_time": "2022-03-09T19:41:56.899644Z"
    }
   },
   "outputs": [
    {
     "data": {
      "text/plain": [
       "Pipeline(steps=[('transform',\n",
       "                 FunctionTransformer(func=<function scale at 0x7f96308a59d0>)),\n",
       "                ('forest', RandomForestClassifier())])"
      ]
     },
     "execution_count": 7,
     "metadata": {},
     "output_type": "execute_result"
    }
   ],
   "source": [
    "# Train the model\n",
    "model.fit(X_train, y_train)"
   ]
  },
  {
   "cell_type": "markdown",
   "id": "ebc92bcf",
   "metadata": {},
   "source": [
    "# Serialise model\n",
    "<hr style = \"border:2px solid black\" ></hr>"
   ]
  },
  {
   "cell_type": "code",
   "execution_count": 8,
   "id": "cf681fa4",
   "metadata": {
    "ExecuteTime": {
     "end_time": "2022-03-09T19:42:09.943836Z",
     "start_time": "2022-03-09T19:42:09.909371Z"
    }
   },
   "outputs": [],
   "source": [
    "# Serialize the model using dill.\n",
    "with open(\"model.dill\", \"wb\") as f:\n",
    "    dill.dump(model, f, protocol=pickle.HIGHEST_PROTOCOL)"
   ]
  },
  {
   "cell_type": "code",
   "execution_count": 9,
   "id": "f9cdf8d1",
   "metadata": {
    "ExecuteTime": {
     "end_time": "2022-03-09T19:42:23.626761Z",
     "start_time": "2022-03-09T19:42:23.499296Z"
    }
   },
   "outputs": [
    {
     "name": "stdout",
     "output_type": "stream",
     "text": [
      "model.dill\r\n"
     ]
    }
   ],
   "source": [
    "!ls *.dill"
   ]
  },
  {
   "cell_type": "markdown",
   "id": "ac86a344",
   "metadata": {},
   "source": [
    "# Deserialise model\n",
    "<hr style = \"border:2px solid black\" ></hr>"
   ]
  },
  {
   "cell_type": "code",
   "execution_count": 10,
   "id": "c7dfe128",
   "metadata": {
    "ExecuteTime": {
     "end_time": "2022-03-09T19:42:46.726398Z",
     "start_time": "2022-03-09T19:42:46.719069Z"
    }
   },
   "outputs": [],
   "source": [
    "with open(\"model.dill\", \"rb\") as f:\n",
    "    model = dill.load(f)"
   ]
  },
  {
   "cell_type": "code",
   "execution_count": 11,
   "id": "8d025168",
   "metadata": {
    "ExecuteTime": {
     "end_time": "2022-03-09T19:43:03.937496Z",
     "start_time": "2022-03-09T19:43:03.932812Z"
    }
   },
   "outputs": [
    {
     "name": "stdout",
     "output_type": "stream",
     "text": [
      "Pipeline(steps=[('transform',\n",
      "                 FunctionTransformer(func=<function scale at 0x7f962f237c10>)),\n",
      "                ('forest', RandomForestClassifier())])\n"
     ]
    }
   ],
   "source": [
    "print(model)"
   ]
  },
  {
   "cell_type": "code",
   "execution_count": 14,
   "id": "93fa58a3",
   "metadata": {
    "ExecuteTime": {
     "end_time": "2022-03-09T19:44:02.076607Z",
     "start_time": "2022-03-09T19:44:02.073219Z"
    }
   },
   "outputs": [
    {
     "name": "stdout",
     "output_type": "stream",
     "text": [
      "def scale(X_input):\n",
      "    \"\"\"Scale the input matrix.\"\"\"\n",
      "    import os\n",
      "    scale_factor = os.getenv(\"SCALE_FACTOR\", 2)\n",
      "    return X_input * scale_factor\n",
      "\n"
     ]
    }
   ],
   "source": [
    "print(inspect.getsource(model.steps[0][1].func))"
   ]
  },
  {
   "cell_type": "code",
   "execution_count": 15,
   "id": "f05a6349",
   "metadata": {
    "ExecuteTime": {
     "end_time": "2022-03-09T19:44:20.493781Z",
     "start_time": "2022-03-09T19:44:20.477722Z"
    }
   },
   "outputs": [],
   "source": [
    "# Make some predictions\n",
    "predictions = model.predict(X_test)"
   ]
  },
  {
   "cell_type": "code",
   "execution_count": 16,
   "id": "43d42ca1",
   "metadata": {
    "ExecuteTime": {
     "end_time": "2022-03-09T19:44:26.714053Z",
     "start_time": "2022-03-09T19:44:26.710478Z"
    }
   },
   "outputs": [
    {
     "data": {
      "text/plain": [
       "array([1, 2, 0, 2, 1, 0, 1, 1, 0, 0, 2, 0, 1, 0, 0, 0, 2, 1, 0, 0, 2, 1,\n",
       "       2, 0, 0, 1, 1, 1, 1, 2, 1, 1, 1, 2, 2, 2, 1, 1])"
      ]
     },
     "execution_count": 16,
     "metadata": {},
     "output_type": "execute_result"
    }
   ],
   "source": [
    "predictions"
   ]
  },
  {
   "cell_type": "markdown",
   "id": "d9daf7f1",
   "metadata": {},
   "source": [
    "# Clean-up\n",
    "<hr style = \"border:2px solid black\" ></hr>"
   ]
  },
  {
   "cell_type": "code",
   "execution_count": 17,
   "id": "dfba7420",
   "metadata": {
    "ExecuteTime": {
     "end_time": "2022-03-09T19:44:29.465834Z",
     "start_time": "2022-03-09T19:44:29.342480Z"
    }
   },
   "outputs": [
    {
     "name": "stdout",
     "output_type": "stream",
     "text": [
      "How to save your Keras model.ipynb  Save and load ML models.ipynb\r\n",
      "Model serialisation with dill.ipynb model.dill\r\n",
      "ReadMe.md\r\n"
     ]
    }
   ],
   "source": [
    "!ls"
   ]
  },
  {
   "cell_type": "code",
   "execution_count": 18,
   "id": "fa5d16e2",
   "metadata": {
    "ExecuteTime": {
     "end_time": "2022-03-09T19:44:40.294642Z",
     "start_time": "2022-03-09T19:44:40.165331Z"
    }
   },
   "outputs": [],
   "source": [
    "!rm *.dill"
   ]
  },
  {
   "cell_type": "code",
   "execution_count": 19,
   "id": "db228695",
   "metadata": {
    "ExecuteTime": {
     "end_time": "2022-03-09T19:44:44.319889Z",
     "start_time": "2022-03-09T19:44:44.192704Z"
    }
   },
   "outputs": [
    {
     "name": "stdout",
     "output_type": "stream",
     "text": [
      "How to save your Keras model.ipynb  ReadMe.md\r\n",
      "Model serialisation with dill.ipynb Save and load ML models.ipynb\r\n"
     ]
    }
   ],
   "source": [
    "!ls"
   ]
  },
  {
   "cell_type": "markdown",
   "id": "01b86bdf",
   "metadata": {},
   "source": [
    "# References\n",
    "<hr style = \"border:2px solid black\" ></hr>"
   ]
  },
  {
   "cell_type": "markdown",
   "id": "a5ef40d5",
   "metadata": {},
   "source": [
    "\n",
    "- https://flynn.gg/blog/machine-learning-model-serialization/\n",
    "\n"
   ]
  },
  {
   "cell_type": "code",
   "execution_count": null,
   "id": "1e704c05",
   "metadata": {},
   "outputs": [],
   "source": []
  }
 ],
 "metadata": {
  "kernelspec": {
   "display_name": "trainingAI",
   "language": "python",
   "name": "trainingai"
  },
  "language_info": {
   "codemirror_mode": {
    "name": "ipython",
    "version": 3
   },
   "file_extension": ".py",
   "mimetype": "text/x-python",
   "name": "python",
   "nbconvert_exporter": "python",
   "pygments_lexer": "ipython3",
   "version": "3.9.7"
  },
  "toc": {
   "base_numbering": 1,
   "nav_menu": {},
   "number_sections": true,
   "sideBar": true,
   "skip_h1_title": false,
   "title_cell": "Table of Contents",
   "title_sidebar": "Contents",
   "toc_cell": true,
   "toc_position": {},
   "toc_section_display": true,
   "toc_window_display": true
  },
  "varInspector": {
   "cols": {
    "lenName": 16,
    "lenType": 16,
    "lenVar": 40
   },
   "kernels_config": {
    "python": {
     "delete_cmd_postfix": "",
     "delete_cmd_prefix": "del ",
     "library": "var_list.py",
     "varRefreshCmd": "print(var_dic_list())"
    },
    "r": {
     "delete_cmd_postfix": ") ",
     "delete_cmd_prefix": "rm(",
     "library": "var_list.r",
     "varRefreshCmd": "cat(var_dic_list()) "
    }
   },
   "types_to_exclude": [
    "module",
    "function",
    "builtin_function_or_method",
    "instance",
    "_Feature"
   ],
   "window_display": false
  }
 },
 "nbformat": 4,
 "nbformat_minor": 5
}
