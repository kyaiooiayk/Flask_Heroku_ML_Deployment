{
 "cells": [
  {
   "cell_type": "markdown",
   "metadata": {},
   "source": [
    "# load datasets"
   ]
  },
  {
   "cell_type": "code",
   "execution_count": 4,
   "metadata": {},
   "outputs": [],
   "source": [
    "%matplotlib inline\n",
    "import matplotlib.pyplot as plt\n",
    "\n",
    "import numpy as np\n",
    "import pandas as pd\n",
    "import os\n",
    "\n",
    "# Iris dataset\n",
    "dataset_file = './datasets/iris_dataset/Kaggle/iris.csv'\n",
    "df_iris = pd.read_csv(dataset_file)\n",
    "df_iris_target = df_iris.loc[:,['species']]\n",
    "df_iris_features = df_iris.drop(['species'], axis=1)"
   ]
  },
  {
   "cell_type": "markdown",
   "metadata": {},
   "source": [
    "# creating a training and validation set"
   ]
  },
  {
   "cell_type": "code",
   "execution_count": 5,
   "metadata": {},
   "outputs": [],
   "source": [
    "\n",
    "# using Scikit-Learn's train_test_split function.\n",
    "from sklearn.model_selection import train_test_split\n",
    "\n",
    "iris_split = train_test_split(df_iris_features, df_iris_target, \n",
    "                              test_size=0.25, random_state=17)\n",
    "df_iris_features_train = iris_split[0]\n",
    "df_iris_features_test = iris_split[1]\n",
    "df_iris_target_train = iris_split[2]\n",
    "df_iris_target_test = iris_split[3]\n"
   ]
  },
  {
   "cell_type": "code",
   "execution_count": 6,
   "metadata": {},
   "outputs": [],
   "source": [
    "# concatenate the features and target and \n",
    "# save training and test datasets into seperate files.\n",
    "#\n",
    "# Amazon Sagemaker requires that the first column of the CSV file is the target value.\n",
    "df_iris_train = pd.concat([df_iris_target_train, df_iris_features_train], axis=1)\n",
    "df_iris_test = pd.concat([df_iris_target_test, df_iris_features_test], axis=1)\n",
    "\n",
    "df_iris_train.to_csv('./datasets/iris_dataset/Kaggle/iris_train.csv', index=False, header=True)\n",
    "df_iris_test.to_csv('./datasets/iris_dataset/Kaggle/iris_test.csv', index=False, header=True)"
   ]
  },
  {
   "cell_type": "code",
   "execution_count": null,
   "metadata": {},
   "outputs": [],
   "source": []
  }
 ],
 "metadata": {
  "kernelspec": {
   "display_name": "Python (AWS_ML_Book)",
   "language": "python",
   "name": "aws_ml_book"
  },
  "language_info": {
   "codemirror_mode": {
    "name": "ipython",
    "version": 3
   },
   "file_extension": ".py",
   "mimetype": "text/x-python",
   "name": "python",
   "nbconvert_exporter": "python",
   "pygments_lexer": "ipython3",
   "version": "3.6.8"
  }
 },
 "nbformat": 4,
 "nbformat_minor": 2
}
