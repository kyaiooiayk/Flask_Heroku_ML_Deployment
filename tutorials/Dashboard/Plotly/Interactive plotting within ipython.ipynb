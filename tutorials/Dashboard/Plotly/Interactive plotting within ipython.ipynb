{
 "cells": [
  {
   "cell_type": "markdown",
   "metadata": {},
   "source": [
    "# Introduction"
   ]
  },
  {
   "cell_type": "markdown",
   "metadata": {},
   "source": [
    "<div class=\"alert alert-block alert-warning\">\n",
    "<font color=black><br>\n",
    "\n",
    "**What?** Interactive plotting within ipython\n",
    "\n",
    "<br></font>\n",
    "</div>"
   ]
  },
  {
   "cell_type": "markdown",
   "metadata": {},
   "source": [
    "# Import modules"
   ]
  },
  {
   "cell_type": "code",
   "execution_count": 1,
   "metadata": {},
   "outputs": [
    {
     "data": {
      "text/html": [
       "        <script type=\"text/javascript\">\n",
       "        window.PlotlyConfig = {MathJaxConfig: 'local'};\n",
       "        if (window.MathJax) {MathJax.Hub.Config({SVG: {font: \"STIX-Web\"}});}\n",
       "        if (typeof require !== 'undefined') {\n",
       "        require.undef(\"plotly\");\n",
       "        requirejs.config({\n",
       "            paths: {\n",
       "                'plotly': ['https://cdn.plot.ly/plotly-latest.min']\n",
       "            }\n",
       "        });\n",
       "        require(['plotly'], function(Plotly) {\n",
       "            window._Plotly = Plotly;\n",
       "        });\n",
       "        }\n",
       "        </script>\n",
       "        "
      ]
     },
     "metadata": {},
     "output_type": "display_data"
    }
   ],
   "source": [
    "import pandas as pd\n",
    "import numpy as np\n",
    "from sklearn.base import BaseEstimator\n",
    "from sklearn.ensemble import GradientBoostingRegressor\n",
    "import glob\n",
    "from ipywidgets import interact, widgets\n",
    "import plotly.graph_objs as go\n",
    "from plotly.offline import iplot, plot, init_notebook_mode\n",
    "init_notebook_mode(connected=True)\n",
    "import plotly_express as px\n",
    "import cufflinks as cf\n",
    "#cf.go_offline(connected=True)\n"
   ]
  },
  {
   "cell_type": "markdown",
   "metadata": {},
   "source": [
    "# Check packages version"
   ]
  },
  {
   "cell_type": "code",
   "execution_count": 2,
   "metadata": {},
   "outputs": [
    {
     "name": "stdout",
     "output_type": "stream",
     "text": [
      "numpy : 1.21.2\n",
      "pandas: 1.2.4\n",
      "plotly: 4.14.3\n",
      "\n"
     ]
    }
   ],
   "source": [
    "import numpy,pandas,plotly\n",
    "%load_ext watermark\n",
    "%watermark -p numpy,pandas,plotly"
   ]
  },
  {
   "cell_type": "markdown",
   "metadata": {},
   "source": [
    "# Dataset"
   ]
  },
  {
   "cell_type": "markdown",
   "metadata": {},
   "source": [
    "<div class=\"alert alert-block alert-info\">\n",
    "<font color=black><br>\n",
    "\n",
    "- The energy data is measured every 15 minutes and includes 3 weather variables related to energy consumption: temperature, irradiance, and relative humidity. \n",
    "- This is the data from the DrivenData Energy Forecasting competition.\n",
    "- I've cleaned up the datasets and extracted 8 features that allow us to predict the energy consumption fairly accurately.\n",
    "- Dataset refrence: https://www.drivendata.org/competitions/51/electricity-prediction-machine-learning/\n",
    "\n",
    "<br></font>\n",
    "</div>"
   ]
  },
  {
   "cell_type": "code",
   "execution_count": 3,
   "metadata": {},
   "outputs": [
    {
     "data": {
      "text/plain": [
       "['../../DATASETS/building_1_energy_data.csv',\n",
       " '../../DATASETS/building_2_energy_data.csv',\n",
       " '../../DATASETS/building_4_energy_data.csv',\n",
       " '../../DATASETS/building_3_energy_data.csv']"
      ]
     },
     "execution_count": 3,
     "metadata": {},
     "output_type": "execute_result"
    }
   ],
   "source": [
    "files = glob.glob('../../DATASETS/*_energy_data.csv')\n",
    "files"
   ]
  },
  {
   "cell_type": "code",
   "execution_count": 4,
   "metadata": {},
   "outputs": [],
   "source": [
    "data = pd.read_csv(files[2], parse_dates = ['timestamp'], index_col = 'timestamp').sort_index()\n",
    "data.head()\n",
    "data = data.rename(columns={\"energy\": \"actual\"})"
   ]
  },
  {
   "cell_type": "code",
   "execution_count": 5,
   "metadata": {},
   "outputs": [
    {
     "data": {
      "text/html": [
       "<div>\n",
       "<style scoped>\n",
       "    .dataframe tbody tr th:only-of-type {\n",
       "        vertical-align: middle;\n",
       "    }\n",
       "\n",
       "    .dataframe tbody tr th {\n",
       "        vertical-align: top;\n",
       "    }\n",
       "\n",
       "    .dataframe thead th {\n",
       "        text-align: right;\n",
       "    }\n",
       "</style>\n",
       "<table border=\"1\" class=\"dataframe\">\n",
       "  <thead>\n",
       "    <tr style=\"text-align: right;\">\n",
       "      <th></th>\n",
       "      <th>actual</th>\n",
       "      <th>business_day</th>\n",
       "      <th>temperature</th>\n",
       "      <th>irradiance</th>\n",
       "      <th>relative_humidity</th>\n",
       "      <th>day_of_week</th>\n",
       "      <th>time_of_day</th>\n",
       "      <th>day_of_year</th>\n",
       "      <th>year</th>\n",
       "    </tr>\n",
       "    <tr>\n",
       "      <th>timestamp</th>\n",
       "      <th></th>\n",
       "      <th></th>\n",
       "      <th></th>\n",
       "      <th></th>\n",
       "      <th></th>\n",
       "      <th></th>\n",
       "      <th></th>\n",
       "      <th></th>\n",
       "      <th></th>\n",
       "    </tr>\n",
       "  </thead>\n",
       "  <tbody>\n",
       "    <tr>\n",
       "      <th>2015-01-01 05:15:00+00:00</th>\n",
       "      <td>4.24</td>\n",
       "      <td>1</td>\n",
       "      <td>5.102</td>\n",
       "      <td>0.0</td>\n",
       "      <td>63.855</td>\n",
       "      <td>3</td>\n",
       "      <td>5.25</td>\n",
       "      <td>1</td>\n",
       "      <td>2015</td>\n",
       "    </tr>\n",
       "    <tr>\n",
       "      <th>2015-01-01 05:30:00+00:00</th>\n",
       "      <td>2.48</td>\n",
       "      <td>1</td>\n",
       "      <td>5.097</td>\n",
       "      <td>-0.0</td>\n",
       "      <td>64.385</td>\n",
       "      <td>3</td>\n",
       "      <td>5.50</td>\n",
       "      <td>1</td>\n",
       "      <td>2015</td>\n",
       "    </tr>\n",
       "    <tr>\n",
       "      <th>2015-01-01 05:45:00+00:00</th>\n",
       "      <td>2.00</td>\n",
       "      <td>1</td>\n",
       "      <td>5.111</td>\n",
       "      <td>0.0</td>\n",
       "      <td>64.791</td>\n",
       "      <td>3</td>\n",
       "      <td>5.75</td>\n",
       "      <td>1</td>\n",
       "      <td>2015</td>\n",
       "    </tr>\n",
       "    <tr>\n",
       "      <th>2015-01-01 06:00:00+00:00</th>\n",
       "      <td>2.00</td>\n",
       "      <td>1</td>\n",
       "      <td>5.044</td>\n",
       "      <td>-0.0</td>\n",
       "      <td>65.336</td>\n",
       "      <td>3</td>\n",
       "      <td>6.00</td>\n",
       "      <td>1</td>\n",
       "      <td>2015</td>\n",
       "    </tr>\n",
       "    <tr>\n",
       "      <th>2015-01-01 06:15:00+00:00</th>\n",
       "      <td>1.92</td>\n",
       "      <td>1</td>\n",
       "      <td>4.999</td>\n",
       "      <td>0.0</td>\n",
       "      <td>65.323</td>\n",
       "      <td>3</td>\n",
       "      <td>6.25</td>\n",
       "      <td>1</td>\n",
       "      <td>2015</td>\n",
       "    </tr>\n",
       "  </tbody>\n",
       "</table>\n",
       "</div>"
      ],
      "text/plain": [
       "                           actual  business_day  temperature  irradiance  \\\n",
       "timestamp                                                                  \n",
       "2015-01-01 05:15:00+00:00    4.24             1        5.102         0.0   \n",
       "2015-01-01 05:30:00+00:00    2.48             1        5.097        -0.0   \n",
       "2015-01-01 05:45:00+00:00    2.00             1        5.111         0.0   \n",
       "2015-01-01 06:00:00+00:00    2.00             1        5.044        -0.0   \n",
       "2015-01-01 06:15:00+00:00    1.92             1        4.999         0.0   \n",
       "\n",
       "                           relative_humidity  day_of_week  time_of_day  \\\n",
       "timestamp                                                                \n",
       "2015-01-01 05:15:00+00:00             63.855            3         5.25   \n",
       "2015-01-01 05:30:00+00:00             64.385            3         5.50   \n",
       "2015-01-01 05:45:00+00:00             64.791            3         5.75   \n",
       "2015-01-01 06:00:00+00:00             65.336            3         6.00   \n",
       "2015-01-01 06:15:00+00:00             65.323            3         6.25   \n",
       "\n",
       "                           day_of_year  year  \n",
       "timestamp                                     \n",
       "2015-01-01 05:15:00+00:00            1  2015  \n",
       "2015-01-01 05:30:00+00:00            1  2015  \n",
       "2015-01-01 05:45:00+00:00            1  2015  \n",
       "2015-01-01 06:00:00+00:00            1  2015  \n",
       "2015-01-01 06:15:00+00:00            1  2015  "
      ]
     },
     "execution_count": 5,
     "metadata": {},
     "output_type": "execute_result"
    }
   ],
   "source": [
    "data.head(5)"
   ]
  },
  {
   "cell_type": "markdown",
   "metadata": {},
   "source": [
    "# Interactive plotting"
   ]
  },
  {
   "cell_type": "code",
   "execution_count": 6,
   "metadata": {},
   "outputs": [
    {
     "data": {
      "application/vnd.jupyter.widget-view+json": {
       "model_id": "ed3c2c9d4aea40f9915b22122d6f7939",
       "version_major": 2,
       "version_minor": 0
      },
      "text/plain": [
       "interactive(children=(RadioButtons(description='timescale', options=('dayofyear', 'week', 'month'), value='day…"
      ]
     },
     "metadata": {},
     "output_type": "display_data"
    }
   ],
   "source": [
    "# Create a subset of data for plotting\n",
    "data_to_plot = data.loc[\"2015\"].copy()\n",
    "\n",
    "\n",
    "def plot_timescale(timescale, selection, theme):\n",
    "    \"\"\"\n",
    "    Plot the energy consumption on different timescales (day, week, month).\n",
    "    \n",
    "    :param timescale: the timescale to use\n",
    "    :param selection: the numeric value of the timescale selection (for example the 15th day\n",
    "    of the year or the 1st week of the year)\n",
    "    :param theme: aesthetics of plot\n",
    "    \"\"\"\n",
    "    # Subset based on timescale and selection\n",
    "    subset = data_to_plot.loc[\n",
    "        getattr(data_to_plot.index, timescale) == selection, \"actual\"\n",
    "    ].copy()\n",
    "\n",
    "    if subset.empty:\n",
    "        print(\"Choose another selection\")\n",
    "        return\n",
    "    \n",
    "    # Make an interactive plot\n",
    "    fig = subset.iplot(\n",
    "            title=f\"Energy for {selection} {timescale.title()}\", theme=theme, asFigure=True\n",
    "    )\n",
    "    fig['layout']['height'] = 500\n",
    "    fig['layout']['width'] = 1400\n",
    "    iplot(fig)\n",
    "    \n",
    "\n",
    "\n",
    "_ = interact(\n",
    "    plot_timescale,\n",
    "    timescale=widgets.RadioButtons(\n",
    "        options=[\"dayofyear\", \"week\", \"month\"], value=\"dayofyear\"\n",
    "    ),\n",
    "    # Selection \n",
    "    selection=widgets.IntSlider(value=16, min=0, max=365),\n",
    "    theme=widgets.Select(options=cf.themes.THEMES.keys(), value='ggplot')\n",
    ")"
   ]
  },
  {
   "cell_type": "markdown",
   "metadata": {},
   "source": [
    "# References"
   ]
  },
  {
   "cell_type": "markdown",
   "metadata": {},
   "source": [
    "<div class=\"alert alert-block alert-warning\">\n",
    "<font color=black><br>\n",
    "\n",
    "- https://towardsdatascience.com/how-to-generate-prediction-intervals-with-scikit-learn-and-python-ab3899f992ed<br>\n",
    "- https://nbviewer.jupyter.org/github/WillKoehrsen/Data-Analysis/blob/master/prediction-intervals/prediction_intervals.ipynb<br>\n",
    "\n",
    "<br></font>\n",
    "</div>"
   ]
  },
  {
   "cell_type": "code",
   "execution_count": null,
   "metadata": {},
   "outputs": [],
   "source": []
  }
 ],
 "metadata": {
  "hide_input": false,
  "kernelspec": {
   "display_name": "trainingAI",
   "language": "python",
   "name": "trainingai"
  },
  "language_info": {
   "codemirror_mode": {
    "name": "ipython",
    "version": 3
   },
   "file_extension": ".py",
   "mimetype": "text/x-python",
   "name": "python",
   "nbconvert_exporter": "python",
   "pygments_lexer": "ipython3",
   "version": "3.8.5"
  }
 },
 "nbformat": 4,
 "nbformat_minor": 2
}
